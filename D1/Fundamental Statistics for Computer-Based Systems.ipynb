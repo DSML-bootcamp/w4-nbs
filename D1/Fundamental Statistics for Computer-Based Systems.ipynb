{
 "cells": [
  {
   "cell_type": "markdown",
   "metadata": {},
   "source": [
    "# Day 1: Fundamental Statistics for Computer-Based Systems"
   ]
  },
  {
   "cell_type": "markdown",
   "metadata": {},
   "source": [
    "## Table of Contents"
   ]
  },
  {
   "cell_type": "markdown",
   "metadata": {},
   "source": [
    "Table of Contents\n",
    "\n",
    "### Chapter 1: Introduction to Data\n",
    "Introducing the fundamental concepts of data in the context of statistics, setting the stage for deeper exploration.\n",
    "\n",
    "### Chapter 2: Descriptive Statistics\n",
    "Focusing on the methods to summarize and describe the essential features of a data set.\n",
    "\n",
    "* **2.1 Getting Data**: Techniques for identifying, sourcing, and acquiring data that is relevant and reliable.\n",
    "* **2.2 Data Preparation**: Preparing your data for analysis, including sorting, filtering, and structuring data sets.\n",
    "* **2.3 Importing Data as a pandas DataFrame**: A guide to using Python’s pandas library for importing and managing data sets.\n",
    "* **2.4 Data Cleaning and Preparation**: Critical steps for ensuring data accuracy and readiness for analysis, including handling missing values and inconsistencies.\n",
    "\n",
    "### Chapter 3: Exploratory Data Analysis\n",
    "Delving into techniques to analyze data sets to summarize their main characteristics, often with visual methods.\n",
    "\n",
    "* **3.1 Summarizing the Data**: Exploring basic statistical measures like mean, median, variance, and more to summarize data sets.\n",
    "* **3.2 Histogram**: Understanding and creating histograms to visualize data distributions.\n",
    "* **3.3 Data Distributions**\n",
    "    * **3.3.1 PMF (Probability Mass Function)**: Analyzing discrete probability distributions.\n",
    "    * **3.3.2 CDF (Cumulative Distribution Function)**: Understanding the cumulative distribution of data.\n",
    "* **3.4 Outliers**: Identifying and interpreting outliers in data and their impact on analysis.\n",
    "* **3.5 Measuring Asymmetry**\n",
    "    * **3.5.1 Skewness**: Quantifying the degree of asymmetry in a data distribution.\n",
    "    * **3.5.2 Pearson's Median Skewness Coefficient**: An alternative measure of distribution asymmetry.\n",
    "* **3.6 Relative Risk**: Calculating and interpreting relative risk in different scenarios.\n",
    "* **3.7 A First Glimpse into Conditional Probability**: Introducing the concept of conditional probability in data analysis.\n",
    "\n",
    "### Chapter 4: Probabilities\n",
    "Understanding the fundamentals of probability, an essential part of statistical analysis.\n",
    "\n",
    "* **4.1 Probability Rules**: Covering the basic rules and principles that govern the concept of probability.\n",
    "* **4.2 Binomial Distribution**: Exploring the binomial distribution, a key concept in probability theory.\n",
    "* **4.3 Monte Carlo Simulations**: Implementing Monte Carlo methods to understand complex systems and uncertainty."
   ]
  },
  {
   "cell_type": "markdown",
   "metadata": {},
   "source": [
    "## 1. Understanding the Core of Statistics"
   ]
  },
  {
   "cell_type": "markdown",
   "metadata": {},
   "source": [
    "Understanding the Core of Statistics\n",
    "\n",
    "Statistics is a fascinating field that revolves around analyzing data samples to make inferences or support claims about larger groups, known as populations. This discipline blends scientific methods, mathematics, and practical knowledge to extract meaningful insights from data.\n",
    "\n",
    "### 1.1. Introduction to data & insights\n",
    "\n",
    "Scientists seek insights from careful observations and experiments. These methods and careful observations allow us to establish facts and draw conclusions. It is helpful to understand how statistics fit into this process.\n",
    "\n",
    "1. **Identify the context of a general question or problem.**\n",
    "2. **Collect relevant data on the topic.**\n",
    "3. **Analyze the data.**\n",
    "4. **Form a conclusion from the analysis.**\n",
    "\n",
    "Statistics is the science that helps us make decisions when we are faced with uncertainty. And, what can be more uncertain than the future? We will explore how statisticians help us to predict the future, and often, help to shape it.\n",
    "\n",
    "Statistics is also the art of making decisions when the data are variable and numbers are uncertain. We will see that from the statistical study at hand, there are tools typically used to ask the question before the collection of data. However, throughout the rest of the book, we will explore how data are collected and analyzed to answer the questions we pose.\n",
    "\n",
    "Statistics is a rigorous and efficient way to analyze data and draw conclusions from them. However, how we collect and analyze the data are typically up to the statistician.\n",
    "\n",
    "### 1.2. Key Concepts in Statistics:\n",
    "\n",
    "1. **Population**: This term refers to the entire group about which you want to draw conclusions. A population can be large, like all the residents of a city, or it can be a smaller, more specific group, such as all the trees in a particular forest.\n",
    "\n",
    "2. **Sample**: Since it's often impractical or impossible to collect data from every member of a population, statisticians collect information from a subset of the population, known as a sample. A well-chosen sample can provide powerful insights into the population as a whole.\n",
    "\n",
    "![](https://www.scribbr.com/wp-content/uploads/2019/09/population-vs-sample-1.png)\n",
    "\n",
    "Understanding these fundamental concepts is crucial as we delve deeper into the world of computational statistics and data analysis."
   ]
  },
  {
   "cell_type": "markdown",
   "metadata": {},
   "source": [
    " ## 2. Descriptive Statistics."
   ]
  },
  {
   "cell_type": "markdown",
   "metadata": {},
   "source": [
    "### 2.1 Getting Data"
   ]
  },
  {
   "cell_type": "markdown",
   "metadata": {},
   "source": [
    "2.1 Getting Data\n",
    "\n",
    "#### Understanding the Dataset\n",
    "\n",
    "In this section, we will explore a practical and publicly available **data source** to understand patterns in childbirth. The data we will use comes from a longstanding survey conducted by the U.S. Centers for Disease Control and Prevention (CDC), called the National Survey of Family Growth (NSFG). This survey, which has been conducted since 1973, provides valuable information on family life, marriage and divorce, pregnancy, infertility, use of contraception, and men's and women's health. Such data is crucial for public health research and policy making.\n",
    "\n",
    "#### Accessing the Data\n",
    "\n",
    "The dataset we'll focus on is the *Female Pregnancy Data File (2002FemPreg.dat)*, which contains records for each pregnancy reported by respondents. This dataset is part of the NSFG Cycle 6 data, available for download at:\n",
    "\n",
    "[NSFG Cycle 6 Data](http://www.cdc.gov/nchs/nsfg/nsfg_cycle6.htm#cyc6downdatafiles)\n",
    "\n",
    "#### Dataset Breakdown\n",
    "\n",
    "There are 13,593 pregnancies in our dataset. Each line in the file represents a single record of a pregnancy. The dataset includes the following key information:\n",
    "\n",
    "- `case.id`: The ID of the respondent, spanning from column 1 to 12.\n",
    "- `prg.length`: The duration of the pregnancy in weeks, located in columns 275 to 276.\n",
    "- `outcome`: The outcome of the pregnancy (e.g., 1 = live birth), found in column 277.\n",
    "- `birth.ord`: The birth order of each live birth, covered in columns 278 to 279.\n",
    "\n",
    "This data can provide insights into various aspects of pregnancy and childbirth patterns across the population.\n",
    "\n",
    "<small>For more information, the online documentation of the survey is available at [NSFG Survey Documentation](http://www.icpsr.umich.edu/nsfg6).</small>\n",
    "\n",
    "\n"
   ]
  },
  {
   "cell_type": "markdown",
   "metadata": {},
   "source": [
    "### 2.2 Data Preparation"
   ]
  },
  {
   "cell_type": "markdown",
   "metadata": {},
   "source": [
    "2.2 Data Preparation\n",
    "\n",
    "#### Why Python?\n",
    "\n",
    "One of the reasons we choose a general-purpose programming language like Python for our analysis, rather than a specialized statistics language like R, is the versatility it offers, especially in the data preparation phase. Often, the most challenging aspect of a data analysis project is not the analysis itself, but preparing the data to be analyzed.\n",
    "\n",
    "#### Common Steps in Data Preparation\n",
    "\n",
    "1. **Getting the Data**: This involves reading data from various sources, which could be files or even web scraping for online data.\n",
    "2. **Parsing the Data**: Depending on the format (plain text, fixed columns, CSV, XML, HTML, etc.), the data needs to be parsed or processed into a usable form.\n",
    "3. **Cleaning the Data**: Data is rarely perfect. It often contains incomplete records, errors, or inconsistent codes. Cleaning the data might involve strategies like removing, imputing, or otherwise handling these imperfect records.\n",
    "4. **Building Data Structures**: Once cleaned and parsed, the data should be stored in structures conducive to analysis. For smaller datasets, in-memory structures like lists, dictionaries, or DataFrames are suitable. For larger datasets, a database might be necessary.\n",
    "\n",
    "In our case, we will demonstrate these steps using Python, emphasizing the ease and flexibility it offers in handling and preparing data for analysis."
   ]
  },
  {
   "cell_type": "code",
   "execution_count": null,
   "metadata": {},
   "outputs": [],
   "source": [
    "# --------------------------------------------------------------------------------\n",
    "    # YOU DON'T NEED TO UNDERSTAND HOW TO OPEN THIS FILE, BUT I LEAVE THE CODE FOR YOU\n",
    "# --------------------------------------------------------------------------------\n",
    "\n",
    "# Function to convert a string to an integer.\n",
    "# If the string is empty or contains only spaces, it returns 0.\n",
    "def chr_int(a):\n",
    "    if a.strip() == '':  # Check if the string is empty or spaces\n",
    "        return 0\n",
    "    else:\n",
    "        return int(a)    # Convert the string to an integer\n",
    "\n",
    "# Try to open the file and read its contents\n",
    "try:\n",
    "    # Open the file using 'with' statement for better resource management\n",
    "    with open('files/2002FemPreg.dat', 'r') as file:\n",
    "        preg = []  # Initialize an empty list to store the data\n",
    "\n",
    "        # Iterate over each line in the file\n",
    "        for line in file:\n",
    "            try:\n",
    "                # Extract specific fields from the line using string slicing\n",
    "                # and convert them to integers. If slicing goes wrong, ValueError will be raised\n",
    "                record = [int(line[:12]), int(line[274:276]), int(line[276]), chr_int(line[277:279])]\n",
    "                preg.append(record)  # Append the processed record to the list\n",
    "            except ValueError as e:  # Catch and handle ValueError\n",
    "                print(f\"Error processing line: {line}\")\n",
    "                print(f\"Error message: {e}\")\n",
    "                # You can choose to break, continue, or pass based on your error handling preference\n",
    "\n",
    "    # Print the first record and the total number of records for verification\n",
    "    print('First record:', preg[0])\n",
    "    print('The number of entries is:', len(preg))\n",
    "\n",
    "except FileNotFoundError:  # Catch and handle the FileNotFoundError\n",
    "    print(\"File not found. Please check the file path.\")"
   ]
  },
  {
   "cell_type": "markdown",
   "metadata": {},
   "source": [
    "### 2.3 Importing data as a pandas DataFrame"
   ]
  },
  {
   "cell_type": "markdown",
   "metadata": {},
   "source": [
    "Importing data as a pandas DataFrame\n",
    "\n",
    "In this section, we delve into one of the most powerful features of Python for data analysis: the pandas library. Pandas provides extensive capabilities for data manipulation and analysis, one of which is the DataFrame. A DataFrame is a two-dimensional, size-mutable, and potentially heterogeneous tabular data structure with labeled axes (rows and columns). This makes it perfect for handling complex datasets like the one we have from the NSFG.\n",
    "\n",
    "After reading our dataset, our immediate step is to organize this raw data into a DataFrame. This process transforms the data into a structured form, enhancing both its readability and usability. We can then easily perform various operations on this data, such as grouping, summarizing, and filtering, to derive meaningful insights.\n",
    "\n",
    "In the following Python code, we will:\n",
    "\n",
    "1. Create a DataFrame from our list of pregnancy records.\n",
    "2. Label the columns for better understanding and accessibility.\n",
    "3. Display the first few records to get an initial view of the data.\n",
    "4. Group and count the data based on birth order to see the distribution of first, second, third (and so on) births in the dataset.\n",
    "\n",
    "These steps are foundational in our journey of data exploration and analysis."
   ]
  },
  {
   "cell_type": "code",
   "execution_count": null,
   "metadata": {},
   "outputs": [],
   "source": [
    "# Importing the pandas library\n",
    "import pandas as pd\n",
    "\n",
    "# Creating a DataFrame from the 'preg' list\n",
    "df = pd.DataFrame(preg)\n",
    "\n",
    "# Assigning column names to the DataFrame for clarity\n",
    "df.columns = ['caseId', 'prgLength', 'outcome', 'birthOrd']\n",
    "\n",
    "# Displaying the first few records of the DataFrame\n",
    "df.head()\n",
    "\n",
    "# Grouping the data by 'birthOrd' (birth order) and counting the number of entries for each group\n",
    "counts = df.groupby('birthOrd').size()\n",
    "counts"
   ]
  },
  {
   "cell_type": "code",
   "execution_count": null,
   "metadata": {},
   "outputs": [],
   "source": [
    "df.head()"
   ]
  },
  {
   "cell_type": "code",
   "execution_count": null,
   "metadata": {},
   "outputs": [],
   "source": [
    "# Printing the number of first babies and the number of babies according to their birth order\n",
    "print('The number of first babies is:', counts[1])\n",
    "print('Number of babies according to their order:', counts)\n",
    "\n",
    "# Additional: Displaying the count of different outcomes\n",
    "# df.outcome.value_counts()"
   ]
  },
  {
   "cell_type": "markdown",
   "metadata": {},
   "source": [
    "Next, we'll focus on further dissecting our dataset by dividing live births into two distinct categories: first babies and other babies. This distinction is crucial for several reasons, including studying differences in pregnancy duration, health outcomes, or parental experiences between first-time and experienced mothers.\n",
    "\n",
    "To make this distinction, we apply two filters:\n",
    "1. **First Babies**: Identifying babies who are the first-born to their mothers.\n",
    "2. **Other Babies**: Categorizing babies who are not the first-born, i.e., second, third, or higher birth order.\n",
    "\n",
    "By doing this, we can conduct more targeted analyses and possibly uncover patterns unique to each group."
   ]
  },
  {
   "cell_type": "code",
   "execution_count": null,
   "metadata": {},
   "outputs": [],
   "source": [
    "# Divide records into two lists: first babies and others\n",
    "\n",
    "# Selecting first births where outcome is a live birth (outcome == 1) and birth order is 1 (first baby)\n",
    "firstbirth = df[(df.outcome == 1) & (df.birthOrd == 1)]\n",
    "print('The number of first babies is:', firstbirth.shape[0])"
   ]
  },
  {
   "cell_type": "code",
   "execution_count": null,
   "metadata": {},
   "outputs": [],
   "source": [
    "# Selecting other births where outcome is a live birth (outcome == 1) but birth order is 2 or more\n",
    "othersbirth = df[(df.outcome == 1) & (df.birthOrd >= 2)]\n",
    "print('The number of other babies is:', othersbirth.shape[0])"
   ]
  },
  {
   "cell_type": "markdown",
   "metadata": {},
   "source": [
    "### 2.4 Data Cleaning"
   ]
  },
  {
   "attachments": {
    "image.png": {
     "image/png": "[encoded data removed]"
    }
   },
   "cell_type": "markdown",
   "metadata": {},
   "source": [
    "Data cleaning is a crucial step in the data analysis process. It involves preparing the raw data for analysis by ensuring its quality and usability. Here are some common data cleaning steps:\n",
    "\n",
    "+ **Sample the Data**: When working with large datasets, it might be impractical to process all the data due to computational constraints. In such cases, sampling a subset of the data for analysis is a viable approach.\n",
    "\n",
    "+ **Impute Missing Data**: It's common for datasets to have missing or erroneous fields. These can be handled by:\n",
    "    - Discarding records that are incomplete.\n",
    "    - Inferring missing values from other data records, such as filling in missing data with the average or median value.\n",
    "\n",
    "+ **Normalize Numeric Values**: Normalizing involves transforming numeric data into a uniform range, making it easier to compare and analyze.\n",
    "\n",
    "+ **Reduce Dimensionality**: High dimensionality can pose challenges for certain analysis methods. Dimensionality reduction can be achieved by:\n",
    "    - Removing irrelevant input variables.\n",
    "    - Eliminating redundant input variables.\n",
    "\n",
    "+ **Add Derived Features**: Sometimes, it's beneficial to compute additional attributes from existing ones, like converting a geographical location to a ZIP code, or an age to an age group.\n",
    "\n",
    "+ **Discretize Numeric Values into Categories**: This involves cutting continuous values into ranges and assigning them to corresponding categories. Discretization can be done using constant width (variable frequency) or variable width (constant frequency) ranges.\n",
    "\n",
    "+ **Binarize Categorical Attributes**: For models that only accept binary or numeric inputs, categorical attributes need to be converted into multiple binary attributes, each representing a particular value of the category.\n",
    "\n",
    "+ **Select, Combine, Aggregate Data**: The accuracy of predictive models often hinges on how well the input features are structured. This may involve combining multiple pieces of raw data, or aggregating data records along certain dimensions (e.g., clinical vs. demographic data).\n",
    "\n",
    "!()[![image.png](attachment:image.png)]"
   ]
  },
  {
   "cell_type": "markdown",
   "metadata": {},
   "source": [
    "## 3. Exploratory Data Analysis"
   ]
  },
  {
   "cell_type": "markdown",
   "metadata": {},
   "source": [
    "### (Skip in class) 3.0 Intro to Statistical Exploratory Data Analysis"
   ]
  },
  {
   "cell_type": "markdown",
   "metadata": {},
   "source": [
    "\n",
    "\n",
    "Exploratory Data Analysis (EDA) is a critical step in the data analysis process. It involves examining the data sets to summarize their main characteristics, often using visual methods. The goal is to understand the data, identify patterns and anomalies, and formulate hypotheses for further analysis. This chapter delves into various techniques used in EDA:\n",
    "\n",
    "* **3.1 Summarizing the Data**: This section explores basic statistical measures like mean, median, variance, and more. These measures provide a quick overview of the data's central tendency and variability.\n",
    "\n",
    "* **3.2 Histogram**: Histograms are graphical representations that organize a group of data points into user-specified ranges. This section focuses on understanding and creating histograms to visualize the distribution of data.\n",
    "\n",
    "* **3.3 Data Distributions**\n",
    "    * **3.3.1 PMF (Probability Mass Function)**: The PMF is useful for analyzing discrete probability distributions. It gives the probability that a discrete random variable is exactly equal to some value.\n",
    "    * **3.3.2 CDF (Cumulative Distribution Function)**: The CDF is a function that shows the probability that a random variable will be less than or equal to a certain value. It's an important tool for understanding the cumulative distribution of data.\n",
    "\n",
    "* **3.4 Outliers**: Identifying and interpreting outliers is crucial as they can significantly affect the results of the data analysis. This section discusses methods to detect outliers and their potential impact on analysis.\n",
    "\n",
    "* **3.5 Measuring Asymmetry**\n",
    "    * **3.5.1 Skewness**: Skewness is a measure of the asymmetry of the probability distribution of a real-valued random variable. This part explains how to quantify the degree of asymmetry in a data distribution.\n",
    "    * **3.5.2 Pearson's Median Skewness Coefficient**: An alternative measure of distribution asymmetry, this coefficient is based on the median and the mean of the distribution.\n",
    "\n",
    "* **3.6 Relative Risk**: This section covers the calculation and interpretation of relative risk, which is a measure used in the fields of epidemiology and statistics.\n",
    "\n",
    "* **3.7 A First Glimpse into Conditional Probability**: Introducing the basic concepts of conditional probability, this section sets the groundwork for understanding more complex probabilistic analyses in data science.\n",
    "\n",
    "Each section in this chapter provides tools and techniques to perform an effective exploratory analysis, laying the foundation for more advanced statistical analysis and predictive modeling.\n"
   ]
  },
  {
   "cell_type": "markdown",
   "metadata": {},
   "source": [
    "#### Business Challenge: Exploratory Data Analysis Presentation"
   ]
  },
  {
   "cell_type": "markdown",
   "metadata": {},
   "source": [
    "Business Challenge: Exploratory Data Analysis Presentation\n",
    "\n",
    "##### Background\n",
    "\n",
    "As a data analyst team at a leading business consultancy, your group has been tasked with performing an exploratory data analysis for a high-profile client. The client, a retail giant, is looking to understand their sales data to identify trends, prepare for the upcoming season, and make data-driven decisions to increase profitability.\n",
    "\n",
    "##### Challenge\n",
    "\n",
    "Your team will divide and conquer various EDA techniques to uncover insights from the client's sales data. Each team member will be responsible for mastering one technique, creating a compelling presentation, and educating the rest of the group on their findings and the relevance to the business.\n",
    "Use the following dataset [Online Retail Store](https://archive.ics.uci.edu/dataset/352/online+retail)\n",
    "\n",
    "##### Task Distribution\n",
    "\n",
    "* **Team Member 1 - Summarizing the Data**: Focus on calculating and interpreting the mean, median, and variance. How do these measures help understand customer spending patterns?\n",
    "\n",
    "* **Team Member 2 - Histograms**: Create histograms to visualize the distribution of sales data. Identify peak sales periods and products leading to high sales volumes.\n",
    "\n",
    "* **Team Member 3 - Probability Distributions**:\n",
    "    * **PMF Analysis**: Analyze the discrete probability distribution of sales across different store locations.\n",
    "    * **CDF Analysis**: Assess the cumulative distribution to understand what percentage of stores achieve certain sales thresholds.\n",
    "\n",
    "* **Team Member 4 - Outlier Detection**: Identify any outliers in the sales data. Investigate potential causes and discuss how outliers can impact sales forecasts and inventory planning.\n",
    "\n",
    "* **Team Member 5 - Measuring Asymmetry**:\n",
    "    * **Skewness Assessment**: Determine if the sales data is skewed towards higher or lower values and discuss implications for inventory management.\n",
    "    * **Pearson's Coefficient**: Contrast skewness with Pearson's median skewness coefficient to validate findings.\n",
    "\n",
    "* **Team Member 6 - Relative Risk**: Calculate the relative risk of stockouts during high sales periods. Provide recommendations for risk mitigation.\n",
    "\n",
    "* **Team Member 7 - Conditional Probability**: Offer insights into the probability of high sales given specific conditions, such as holidays or promotional events.\n",
    "\n",
    "##### Presentation Guidelines\n",
    "\n",
    "Each team member will prepare a 5-minute presentation on their technique, showcasing visuals such as charts or tables and explaining their relevance to the business case. The presentation should conclude with strategic recommendations based on the analysis.\n",
    "\n",
    "##### Goal\n",
    "\n",
    "The ultimate objective is to provide the client with actionable insights that can shape their business strategy. By distributing the EDA techniques among team members, the client will benefit from a comprehensive analysis that covers various aspects of their sales data.\n",
    "\n",
    "##### Deadline\n",
    "\n",
    "The presentations will take in 20 minutes.Good luck, team!\n"
   ]
  },
  {
   "cell_type": "code",
   "execution_count": null,
   "metadata": {},
   "outputs": [],
   "source": [
    "# Build your EDA technique presentation"
   ]
  },
  {
   "cell_type": "markdown",
   "metadata": {},
   "source": [
    "### 3.1 Summarizing the Data"
   ]
  },
  {
   "cell_type": "markdown",
   "metadata": {},
   "source": [
    "#### 3.1.0 Summarizing the data Intro\n"
   ]
  },
  {
   "cell_type": "markdown",
   "metadata": {},
   "source": [
    "Summarizing the Data\n",
    "\n",
    "Central tendency is a central (typical) value for a probability distribution. In the field of statistics, measures of central tendency are numerical values that summarize and describe the center point of a dataset. These measures are critical in data analysis as they provide a significant summary statistic about the data.\n",
    "\n",
    "The three main measures of central tendency are:\n",
    "\n",
    "- **Mean**: The arithmetic average of a set of values, obtained by summing them together and then dividing by the number of values.\n",
    "- **Median**: The middle value in a dataset when the values are arranged in ascending or descending order. If there is an even number of observations, the median is the average of the two middle numbers.\n",
    "- **Mode**: The most frequently occurring value in a dataset.\n",
    "\n",
    "Each of these measures can provide different insights into the nature of the data:\n",
    "\n",
    "- **Mean**: Offers a measure that is sensitive to every data point in the dataset, which can be both an advantage and a disadvantage, as it can be heavily influenced by outliers.\n",
    "- **Median**: Provides a better measure of the central tendency when a dataset contains outliers or is skewed, as it is not affected by extreme values.\n",
    "- **Mode**: Useful for categorical data to determine the most common category.\n",
    "\n",
    "![](https://miro.medium.com/v2/resize:fit:1302/0*BicwQ6RD8k3YTByX)\n",
    "\n",
    "Beyond the basic mean, other types of means can be used depending on the data distribution and analysis needs:\n",
    "\n",
    "- **Trimmed Mean**: A mean computed after \"trimming\" a specified percentage of the smallest and largest values from the data set, which can help in reducing the effect of outliers.\n",
    "- **Geometric Mean**: The nth root of the product of n numbers, which is particularly useful for data that is multiplicative in nature.\n",
    "- **Harmonic Mean**: The reciprocal of the arithmetic mean of the reciprocals of the data values, often used for rates and ratios.\n",
    "- **Weighted Mean**: An arithmetic mean that incorporates weighting to certain data elements, useful when certain data points contribute more to the result.\n",
    "\n",
    "Understanding the correct application and implications of each measure is essential for accurately summarizing and interpreting data.\n",
    "\n",
    "![](https://camilo-mora.github.io/GEO380/images/Central%20Tendency%20Measures.png)\n",
    "\n"
   ]
  },
  {
   "cell_type": "markdown",
   "metadata": {},
   "source": [
    "#### 3.1.1 Sample Mean"
   ]
  },
  {
   "cell_type": "markdown",
   "metadata": {},
   "source": [
    "\n",
    "\n",
    "In data analysis, understanding the central tendency of your dataset is crucial, and the **sample mean** is one of the key measures for this. (**la media de toda la vida**)\n",
    "\n",
    "##### What is the Sample Mean?\n",
    "\n",
    "The sample mean (often represented by $\\mu$) is essentially the average of all values in your dataset. It's calculated by summing all the values and then dividing the sum by the number of observations. The formula is:\n",
    "\n",
    "$$ \\mu = \\frac{1}{n} \\sum_i x_i $$\n",
    "\n",
    "Here, $x_i$ represents each individual value, and $n$ is the total number of values.\n",
    "\n",
    "##### The Significance of the Mean\n",
    "\n",
    "The mean is much more than just an average; it's a crucial statistic that offers a quick snapshot of your dataset. It's especially helpful for:\n",
    "\n",
    "- **Comparing Datasets**: It allows for the comparison of the central tendencies across different datasets.\n",
    "- **Trend Analysis**: The mean is invaluable for analyzing trends, particularly in time-series data.\n",
    "- **Foundation for Modeling**: It forms the basis for many statistical models and machine learning algorithms.\n",
    "\n",
    "To explore more about the mean and its applications, check out these resources:\n",
    "- [Mean Explained on Khan Academy](https://www.khanacademy.org/math/statistics-probability)\n",
    "- [Understanding Mean on Stat Trek](https://stattrek.com/statistics/dictionary.aspx?definition=mean)\n",
    "\n",
    "In the next section, we'll use Python to calculate the sample mean for various variables in our birth information dataset (`df`). This will give us an insight into the general characteristics of our data."
   ]
  },
  {
   "cell_type": "markdown",
   "metadata": {},
   "source": [
    "##### Investigating Differences in Pregnancy Lengths\n",
    "\n",
    "After calculating basic summary statistics, our next goal is to compare the pregnancy lengths between different groups within our dataset. Specifically, we're interested in determining if there's a noticeable difference in the average pregnancy length (`prgLength`) between first-time births and subsequent births. This comparison could yield insights into whether the experience of having a child previously affects the duration of later pregnancies.\n",
    "\n",
    "##### Sample Mean Comparison\n",
    "\n",
    "We will calculate the mean pregnancy length for two groups:\n",
    "\n",
    "- **First Births**: Women experiencing their first childbirth.\n",
    "- **Other Births**: Women who have given birth previously.\n",
    "\n",
    "By comparing these two means, we can start to explore our hypothesis about differences in pregnancy lengths based on birth order.\n",
    "\n",
    "##### Considerations\n",
    "\n",
    "It's important to distinguish between the *sample mean* and the *population mean*:\n",
    "- The **sample mean** is the average of a subset (a sample) taken from the population.\n",
    "- The **population mean** is the average of the entire population.\n",
    "\n",
    "Our analysis focuses on the sample mean because we're working with a sample of data from the broader population of all births."
   ]
  },
  {
   "cell_type": "code",
   "execution_count": null,
   "metadata": {
    "scrolled": true
   },
   "outputs": [],
   "source": [
    "# Calculate and print the mean pregnancy length for first births\n",
    "mean_firstbirth = firstbirth['prgLength'].mean()\n",
    "print('The mean of the first birth is:', mean_firstbirth, 'weeks')"
   ]
  },
  {
   "cell_type": "code",
   "execution_count": null,
   "metadata": {},
   "outputs": [],
   "source": [
    "# Calculate and print the mean pregnancy length for non-first births\n",
    "mean_othersbirth = othersbirth['prgLength'].mean()\n",
    "print('The mean of the non first birth is:', mean_othersbirth, 'weeks')"
   ]
  },
  {
   "cell_type": "code",
   "execution_count": null,
   "metadata": {},
   "outputs": [],
   "source": [
    "# Calculate and print the absolute difference in means\n",
    "mean_diff = abs(mean_firstbirth - mean_othersbirth)\n",
    "print('The difference in time is:', mean_diff, \"weeks\")"
   ]
  },
  {
   "cell_type": "code",
   "execution_count": null,
   "metadata": {},
   "outputs": [],
   "source": [
    "# Express the difference in days\n",
    "print('The difference in time is:', mean_diff * 7, \"days\")"
   ]
  },
  {
   "cell_type": "code",
   "execution_count": null,
   "metadata": {},
   "outputs": [],
   "source": [
    "# Express the difference in hours\n",
    "print('The difference in time is:', mean_diff * 7 * 24, \"hours\")"
   ]
  },
  {
   "cell_type": "markdown",
   "metadata": {},
   "source": [
    "##### Now Interpret the result, do you think is relevant?"
   ]
  },
  {
   "cell_type": "code",
   "execution_count": null,
   "metadata": {},
   "outputs": [],
   "source": [
    "# write here your opinion"
   ]
  },
  {
   "cell_type": "markdown",
   "metadata": {},
   "source": [
    "#### 3.1.2 Sample Variance and Standard deviation"
   ]
  },
  {
   "cell_type": "markdown",
   "metadata": {},
   "source": [
    "\n",
    "\n",
    "When we talk about data, just knowing the average (the mean) doesn't give us the full story. Imagine you're looking at the average heights of two basketball teams, and they're both the same. Does this mean all players on both teams are of the same height? Not necessarily. Some players could be taller, and others shorter, which is where **variance** and **standard deviation** come into the picture.\n",
    "\n",
    "![](https://www.researchgate.net/publication/284726282/figure/fig1/AS:300344581083136@1448619136013/Figure-B2-In-this-scenario-two-sample-distributions-have-identical-means-but.png)\n",
    "\n",
    "##### What is Variance?\n",
    "\n",
    "Think of **variance** as a way to measure how \"spread out\" the numbers in your data are. It's like looking at a flock of birds: Are they flying closely together, or is there a lot of space between them? Variance is represented by the symbol $\\sigma^2$ and is calculated with the formula:\n",
    "\n",
    "$$ \\sigma^2 = \\frac{1}{n} \\sum_i (x_i - \\mu)^2 $$\n",
    "\n",
    "- Each $x_i$ is a data point — like the height of each basketball player.\n",
    "- The symbol $\\mu$ stands for the mean height of all the players.\n",
    "- The expression $(x_i - \\mu)$ is called the *deviation from the mean* — it's how much taller or shorter each player is from the average height.\n",
    "- We square each deviation so that we're only dealing with positive numbers (since direction doesn't matter here, just the distance).\n",
    "- And then we find the mean of these squared deviations to get the variance.\n",
    "\n",
    "##### Why Use Standard Deviation?\n",
    "\n",
    "While variance tells us how spread out our data is, it does so in \"squared units.\" If we're measuring height in meters, variance gives us meters squared, which isn't very intuitive. That's why we introduce **standard deviation** ($\\sigma$), which is the square root of the variance:\n",
    "\n",
    "$$ \\sigma = \\sqrt{\\sigma^2} $$\n",
    "\n",
    "Now we're back to regular units — like meters for height — making it much easier to understand. If the standard deviation is small, it means the heights of the basketball players are close to the average. If it's large, the players' heights vary a lot. But what does it tell us exactly?\n",
    "\n",
    "In a perfectly *normal distribution* (which is a specific way to describe data that's symmetrically distributed), we can use the standard deviation to determine the proportion of data that falls within certain ranges:\n",
    "\n",
    "- Approximately 68% of the data falls within one standard deviation of the mean.\n",
    "- Around 95% of the data falls within two standard deviations of the mean.\n",
    "- About 99.7% of the data falls within three standard deviations of the mean.\n",
    "\n",
    "These ranges are known as the Empirical Rule or the 68-95-99.7 (three-sigma) rule. (This is a must know during interviews on data analysis/ data science positions)\n",
    "\n",
    "Example: Imagine you're a teacher looking at the spread of scores on a test. If the distribution of scores is roughly normal and the standard deviation is 10 points, you can expect that about 68% of your students scored within 10 points above or below the average score. If one student scored two standard deviations above the average, they would be among the top 5% of scores.\n",
    "\n",
    "It's important to note that the Empirical Rule only strictly applies to normal distributions, which not all datasets are. Our data might be skewed or follow a different distribution, so we can't always apply these exact percentages. However, standard deviation still offers valuable insight into the variability of the data.\n",
    "\n",
    "##### In the Classroom and Beyond\n",
    "\n",
    "Understanding the spread of data is just as crucial as the average when it comes to making decisions based on data. For instance, if a teacher is looking at the spread of test scores, a small standard deviation would mean most students scored around the same mark. A large standard deviation could indicate that some students scored much higher or lower than the class average.\n",
    "\n",
    "Armed with the knowledge of both the mean and standard deviation, we can get a comprehensive picture of our data — whether we're comparing the heights of basketball players, analyzing test scores, or exploring the duration of pregnancies, as we will do next with our dataset."
   ]
  },
  {
   "cell_type": "code",
   "execution_count": null,
   "metadata": {},
   "outputs": [],
   "source": [
    "# Calculate the mean (average) pregnancy length for first births\n",
    "mu1 = firstbirth['prgLength'].mean()"
   ]
  },
  {
   "cell_type": "code",
   "execution_count": null,
   "metadata": {},
   "outputs": [],
   "source": [
    "# Calculate the mean (average) pregnancy length for other births\n",
    "mu2 = othersbirth['prgLength'].mean()"
   ]
  },
  {
   "cell_type": "code",
   "execution_count": null,
   "metadata": {},
   "outputs": [],
   "source": [
    "# Calculate the variance of pregnancy length for first births\n",
    "# Variance measures how widely the pregnancy lengths are spread around the mean\n",
    "var1 = firstbirth['prgLength'].var()"
   ]
  },
  {
   "cell_type": "code",
   "execution_count": null,
   "metadata": {},
   "outputs": [],
   "source": [
    "# Calculate the variance of pregnancy length for other births\n",
    "var2 = othersbirth['prgLength'].var()"
   ]
  },
  {
   "cell_type": "code",
   "execution_count": null,
   "metadata": {},
   "outputs": [],
   "source": [
    "# Calculate the standard deviation of pregnancy length for first births\n",
    "# Standard deviation is the square root of variance and gives a sense of the spread\n",
    "# of pregnancy lengths around the mean in the original units of measurement\n",
    "std1 = firstbirth['prgLength'].std()"
   ]
  },
  {
   "cell_type": "code",
   "execution_count": null,
   "metadata": {},
   "outputs": [],
   "source": [
    "# Calculate the standard deviation of pregnancy length for other births\n",
    "std2 = othersbirth['prgLength'].std()"
   ]
  },
  {
   "cell_type": "code",
   "execution_count": null,
   "metadata": {},
   "outputs": [],
   "source": [
    "# Print out the mean, variance, and standard deviation for first births\n",
    "print('First births - Mean (mu1):', mu1, 'Variance (var1):', var1, 'Standard Deviation (std1):', std1)\n",
    "\n",
    "# Print out the mean, variance, and standard deviation for other births\n",
    "print('Other births - Mean (mu2):', mu2, 'Variance (var2):', var2, 'Standard Deviation (std2):', std2)"
   ]
  },
  {
   "cell_type": "markdown",
   "metadata": {},
   "source": [
    "#### 3.1.3 Understanding the Sample Median\n",
    "\n",
    "In statistics, the **median** is the number that sits right in the middle of our ordered sample. If you line up all your data points from smallest to largest, the median is the one that divides the line so that half of the values are on one side and the other half on the other side. It's like the middle marker in a race – it tells you how the 'runners' (or data points) are spread out. \n",
    "\n",
    "The median is especially useful because it's not swayed by outliers. For example, if you're looking at the wealth in a neighborhood, a single billionaire could skew the average, but the median would still give you a good idea of what the typical income looks like."
   ]
  },
  {
   "cell_type": "code",
   "execution_count": null,
   "metadata": {
    "scrolled": true
   },
   "outputs": [],
   "source": [
    "# Calculate the median pregnancy length for first births\n",
    "# The median is the middle value when all observations are ordered from lowest to highest\n",
    "firstbirthmedian = firstbirth['prgLength'].median()\n",
    "\n",
    "# Calculate the median pregnancy length for other births\n",
    "# If there is an odd number of observations, the median is the middle number\n",
    "# If there is an even number of observations, the median is the average of the two middle numbers\n",
    "othersbirthmedian = othersbirth['prgLength'].median()"
   ]
  },
  {
   "cell_type": "code",
   "execution_count": null,
   "metadata": {},
   "outputs": [],
   "source": [
    "# Print the median pregnancy lengths for both first births and other births\n",
    "# The median is less affected by outliers and skewed data than the mean\n",
    "print('The median pregnancy length for first births is:', firstbirthmedian, 'weeks')\n",
    "print('The median pregnancy length for other births is:', othersbirthmedian, 'weeks')\n",
    "\n",
    "# Comparing the medians can give us insights into the differences between the two groups\n",
    "# A significant difference in medians may suggest differing distributions of pregnancy lengths"
   ]
  },
  {
   "cell_type": "markdown",
   "metadata": {},
   "source": [
    "#### 3.1.4 Diving Into Quantiles and Percentiles\n",
    "\n",
    "When we want to explore our data even further, we use **quantiles** and **percentiles**. These are points in your data that split it into groups of equal size. \n",
    "\n",
    "For instance, if you're standing in line at the movies, the 25th percentile is the spot in line where 25% of people are in front of you and the rest are behind. In your data, you order all your points and find the value that splits off the bottom 25%. That's your first quantile, also known as the first quartile or $Q_1$.\n",
    "\n",
    "Similarly, the 50th percentile cuts your data in half – and guess what? That's also your median! Then there's the 75th percentile, or $Q_3$, where 75% of your data falls below it.\n",
    "\n",
    "![Illustration of mean and median](images/mean_median.gif)\n",
    "\n",
    "#### The 5-Number Summary\n",
    "\n",
    "To get a quick snapshot of our data, we use the **5-number summary**: this includes the minimum value ($x_{min}$), first quartile ($Q_1$), median ($Q_2$), third quartile ($Q_3$), and the maximum value ($x_{max}$). It's like a mini-map that shows you all the key points in your data at a glance.\n",
    "\n",
    "Let's apply these concepts to our dataset to see how the pregnancy lengths are distributed for first-time births versus others. We'll calculate the median and quantiles to get a deeper understanding of the data's spread and to check for any signs of significant differences between the groups."
   ]
  },
  {
   "cell_type": "markdown",
   "metadata": {},
   "source": [
    "### 3.2 Histograms"
   ]
  },
  {
   "cell_type": "markdown",
   "metadata": {},
   "source": [
    "Histograms\n",
    "\n",
    "When it comes to visualizing data distributions, **histograms** are one of the most popular and powerful tools in a data analyst's toolkit. A histogram is essentially a bar graph, but instead of each bar representing a category, it represents a range of data. Let's dive deeper into understanding histograms and why they're so useful.\n",
    "\n",
    "#### What is a Histogram?\n",
    "\n",
    "A [histogram](https://pandas.pydata.org/pandas-docs/stable/reference/api/pandas.DataFrame.hist.html) displays the frequency of different values in a dataset. Each bar in a histogram represents the frequency (or count) of data points within a specific range of values, known as a bin or bucket. For example, in a histogram of test scores, one bar might represent the number of students who scored between 80 and 89.\n",
    "\n",
    "![](https://es.mathworks.com/help/stats/histogramwithanormaldistributionfitexample_01_es.png)\n",
    "\n",
    "#### Quick Insights from Histograms\n",
    "\n",
    "Histograms are incredibly useful for quickly getting a sense of the following aspects of your data:\n",
    "\n",
    "- **Distribution Shape**: You can see whether the data is skewed (leaning to one side), bimodal (having two peaks), or normal (bell-shaped).\n",
    "- **Central Tendency**: While it doesn't show the mean or median directly, the shape of the histogram can give you a good idea of where the bulk of your data lies.\n",
    "- **Spread of Data**: The width of the histogram shows the range of your data, and the spread of the bars indicates where the data is concentrated.\n",
    "- **Outliers and Gaps**: Unusually high bars or gaps in the histogram might suggest outliers or anomalies in your data.\n",
    "\n",
    "#### Advantages of Using Histograms\n",
    "\n",
    "- **Simplicity and Clarity**: Histograms provide a straightforward visual summary of data, making them easy to understand at a glance.\n",
    "- **Versatility**: They can be used for a wide range of data types and are particularly good for showing the shape of your data distribution.\n",
    "- **Identifying Patterns**: Histograms make it easier to identify patterns, trends, and potential outliers that might warrant further investigation.\n",
    "\n",
    "#### In Practice\n",
    "\n",
    "Let's say you're analyzing customer spending. A histogram of transaction amounts can quickly show you the most common spending range, any unusual spending patterns, and whether there are any unusually high or low transactions.\n",
    "\n",
    "In the next section, we'll create histograms for our birth information dataset. This will help us visually assess the distribution of pregnancy lengths and identify any notable characteristics or patterns.\n",
    "\n",
    "#### Remember:\n",
    "\n",
    "While histograms are a fantastic tool for a quick data overview, they don't give precise numerical information like the mean or median. They are best used as a starting point for deeper data exploration."
   ]
  },
  {
   "cell_type": "code",
   "execution_count": null,
   "metadata": {},
   "outputs": [],
   "source": [
    "import seaborn as sns\n",
    "import scipy.stats as stats\n",
    "import matplotlib.pyplot as plt"
   ]
  },
  {
   "cell_type": "code",
   "execution_count": null,
   "metadata": {},
   "outputs": [],
   "source": [
    "# Extract the 'prgLength' column for first births\n",
    "fb = firstbirth['prgLength']\n",
    "\n",
    "# Plot a histogram for first births\n",
    "# 'bins=30' splits the data into 30 bins for more granularity\n",
    "fb.hist(bins=60)\n",
    "plt.title('First Births Pregnancy Lengths')\n",
    "plt.xlabel('Weeks')\n",
    "plt.ylabel('Frequency')\n",
    "plt.show()"
   ]
  },
  {
   "cell_type": "markdown",
   "metadata": {},
   "source": [
    "#### Interpreting the Histogram of First Births Pregnancy Lengths\n",
    "\n",
    "The histogram we've generated represents the distribution of pregnancy lengths for first births. Here's how to read and interpret this visual data representation.\n",
    "\n",
    "#### Peaks and Valleys\n",
    "\n",
    "- **Central Peak**: The tallest bar in the histogram occurs at around 39 weeks. This peak suggests that the most common pregnancy length for first births is close to 39 weeks.\n",
    "- **Valleys**: The areas where the bars are lower indicate less frequent pregnancy lengths.\n",
    "\n",
    "#### Spread of Data\n",
    "\n",
    "- **Range**: The horizontal axis shows the length of pregnancies in weeks. This particular histogram ranges from approximately 0 to 50 weeks, which covers the entire span of typical pregnancy lengths.\n",
    "- **Concentration**: Most of the data is clustered around the central peak, with fewer occurrences toward the tails (the far left and right of the histogram).\n",
    "\n",
    "#### Interpretation Tips\n",
    "\n",
    "- **Mode**: The mode of this data — the most frequently occurring pregnancy length — is indicated by the height of the central peak.\n",
    "- **Skewness**: If one tail is longer than the other, the data is skewed. In this histogram, there's a slight skew towards lower values, indicating some pregnancies are shorter than the mode.\n",
    "- **Outliers**: Any bars separated from the main group could indicate outliers. For instance, the bars to the far right might represent unusually long pregnancies.\n",
    "\n",
    "#### What This Tells Us\n",
    "\n",
    "By looking at the shape and spread of the histogram, we can infer that most first births happen around the 39-week mark. However, there is\n"
   ]
  },
  {
   "cell_type": "code",
   "execution_count": null,
   "metadata": {
    "scrolled": true
   },
   "outputs": [],
   "source": [
    "# Extract the 'prgLength' column for other births\n",
    "ob = othersbirth['prgLength']\n",
    "\n",
    "# Plot a histogram for other births\n",
    "# 'density=0' ensures the histogram shows counts and not a probability density\n",
    "ob.hist(density=0, bins=30)\n",
    "plt.title('Other Births Pregnancy Lengths')\n",
    "plt.xlabel('Weeks')\n",
    "plt.ylabel('Frequency')\n",
    "plt.show()"
   ]
  },
  {
   "cell_type": "markdown",
   "metadata": {},
   "source": [
    "#### Interpreting the Histogram for Other Births Pregnancy Lengths\n",
    "\n",
    "We've created a histogram to visualize the distribution of pregnancy lengths for births that are not first-time occurrences — referred to here as 'Other Births'.\n",
    "\n",
    "##### Key Observations\n",
    "\n",
    "- **Central Peak**: The histogram shows a strong central peak at around the 39-week mark. This suggests that, similar to first births, the most common length of pregnancy for subsequent births hovers around 39 weeks.\n",
    "- **Frequency**: The height of the peak indicates the frequency. In this case, a significant number of 'Other Births' also occurred around this gestation period.\n",
    "- **Comparison with First Births**: When compared with the histogram for first births, we can look for similarities and differences in the distributions. Does the same peak around 39 weeks hold? Are there more or fewer births at different gestation periods?\n",
    "\n",
    "##### Understanding the Distribution\n",
    "\n",
    "- **Skewness and Spread**: Like the first births histogram, we can examine the skewness — is there a longer tail to the left or right of the peak? Also, the spread of the histogram (how wide it is) can indicate the variability in gestation length for other births.\n",
    "- **Outliers and Gaps**: Are there any bars that stand apart from the rest, indicating unusually short or long pregnancies? These could be outliers that may warrant special attention.\n",
    "\n",
    "##### Practical Insights\n",
    "\n",
    "Histograms like this one are particularly useful for healthcare providers to prepare for the most common scenarios while also planning for less common situations. For example, the peak around 39 weeks tells us when hospitals might expect the highest number of births and plan their staffing and resources accordingly.\n",
    "\n",
    "##### Conclusion\n",
    "\n",
    "By comparing the histogram of 'Other Births' to that of 'First Births', we can start to draw conclusions about how birth order might influence pregnancy length. We also gain valuable insights into the general health and trends within the population being studied.\n",
    "\n",
    "Remember to replace `path-to-histogram-image` with the actual path to your histogram image so that students can see the visual representation that accompanies this interpretation.\n"
   ]
  },
  {
   "cell_type": "code",
   "execution_count": null,
   "metadata": {
    "scrolled": false
   },
   "outputs": [],
   "source": [
    "# Plot histograms for both first births and other births on the same graph for comparison\n",
    "# 'alpha' is set for transparency so both histograms are visible\n",
    "fb.hist(density=True, bins=30, alpha=0.5)   # First births histogram\n",
    "ob.hist(density=True, bins=30, alpha=0.5, color=sns.desaturate(\"indianred\", 0.75))  # Other births histogram\n",
    "plt.title('Comparison of Pregnancy Lengths')\n",
    "plt.xlabel('Weeks')\n",
    "plt.ylabel('Density')\n",
    "plt.show()"
   ]
  },
  {
   "cell_type": "markdown",
   "metadata": {},
   "source": [
    "#### Analyzing Overlaid Histograms for Pregnancy Lengths\n",
    "\n",
    "The overlaid histogram we're looking at provides a visual comparison between the pregnancy lengths for first-time births (in blue) and other births (in pink). This kind of graph is a powerful tool for directly comparing two distributions.\n",
    "\n",
    "##### How to Read the Overlaid Histogram\n",
    "\n",
    "- **Dual Peaks**: Each color represents a different group. The blue bars are for first births, and the pink bars are for subsequent births. Where the bars overlap, they blend to create a purple shade.\n",
    "- **Height of Bars**: The height indicates the density of observations within each bin. A taller bar means more occurrences of pregnancies with lengths within that specific range of weeks.\n",
    "- **Width of Bins**: Each bin covers a range of one week. The width of the bins is consistent across the histogram, allowing for a straightforward comparison between the two groups.\n",
    "\n",
    "##### Insights from the Histogram\n",
    "\n",
    "- **Comparison of Central Tendencies**: Both distributions have their peaks around the same place, close to the 39-week mark, indicating similar median pregnancy lengths.\n",
    "- **Overlap Areas**: The areas where the colors blend indicate a significant overlap in the data, reinforcing the similarity between the two groups.\n",
    "- **Distribution Shape**: By comparing the spread and skewness of the two histograms, we can comment on the variability and distribution shape of pregnancy lengths for both groups.\n",
    "\n",
    "##### What Can We Infer?\n",
    "\n",
    "- **Similarities**: The central weeks show a high degree of overlap, suggesting that the lengths of pregnancies are not drastically different for first-time and experienced mothers.\n",
    "- **Differences in Spread**: If one distribution is noticeably wider than the other, it could indicate a greater variability in pregnancy length for that group.\n",
    "\n",
    "##### Conclusion\n",
    "\n",
    "This visual comparison helps us quickly grasp the similarities and differences between the two groups. While there are individual variances, the general pattern of pregnancy lengths appears consistent, with most falling into the typical gestation period.\n",
    "\n",
    "Remember to replace `path-to-histogram-image` with the actual path to your histogram image. This explanation will help students understand how to compare two sets of data and what conclusions might be drawn from such a comparison.\n"
   ]
  },
  {
   "cell_type": "code",
   "execution_count": null,
   "metadata": {},
   "outputs": [],
   "source": [
    "# Using scipy.stats to compute and print descriptive statistics for first births\n",
    "# This includes count, mean, variance, min, max, skewness, and kurtosis\n",
    "print('First Births Statistics: ', stats.describe(fb.values))\n",
    "\n",
    "# Computing and printing descriptive statistics for other births\n",
    "print('Other Births Statistics: ', stats.describe(ob.values))"
   ]
  },
  {
   "cell_type": "markdown",
   "metadata": {},
   "source": [
    "### 3.3 Data Distributions"
   ]
  },
  {
   "cell_type": "markdown",
   "metadata": {},
   "source": [
    "Data Distributions\n",
    "\n",
    "When we summarize data with statistics like the mean or median, we get a snapshot of our dataset. However, this approach has its limits because vastly different data can have identical summary statistics. That's why it's crucial to validate our summaries by examining the data more closely. One way to do this is by looking at the data distribution.\n",
    "\n",
    "#### What is Data Distribution?\n",
    "\n",
    "Data distribution refers to the way data values are spread across the range of possible values. It gives us a visual representation, often in the form of a graph, showing how frequently each value appears, known as its frequency.\n",
    "\n",
    "#### Why Look at Data Distributions?\n",
    "\n",
    "- **Detect Patterns**: Distribution graphs can reveal patterns that aren't obvious from summary statistics alone.\n",
    "- **Spot Anomalies**: They help in identifying outliers or unusual gaps in data.\n",
    "- **Understand Spread**: Distributions show us the variability or spread of the data, giving context to the mean and median we calculate.\n",
    "\n",
    "#### From Histograms to Probability Mass Functions (PMF)\n",
    "\n",
    "We can take the concept of a histogram a step further by converting it into a **Probability Mass Function (PMF)**. A PMF is simply a normalized version of a histogram where each frequency count is divided by the total number of observations, $n$. This gives us a probability for each value.\n",
    "\n",
    "##### Creating a PMF:\n",
    "\n",
    "1. **Start with a Histogram**: Count how many times each value appears.\n",
    "2. **Normalize**: Divide the counts by the total number of values to get probabilities.\n",
    "3. **Result**: The resulting graph shows the probability of each value within your dataset.\n",
    "\n",
    "The PMF is particularly useful because it allows us to compare different distributions and make probabilistic statements. For example, we can answer questions like, \"What's the probability that a randomly chosen birth is a first birth?\"\n",
    "\n",
    "#### Application in Analysis\n",
    "\n",
    "By understanding the PMF, we can better interpret the likelihood of different outcomes in our data. If we're looking at pregnancy lengths, the PMF can tell us not just the most common length (as the mode would) but also how likely other lengths are relative to that mode.\n",
    "\n",
    "In the following sections, we'll create and analyze PMFs for our dataset to gain deeper insights into the distribution of pregnancy lengths for first-time and other births."
   ]
  },
  {
   "cell_type": "code",
   "execution_count": null,
   "metadata": {},
   "outputs": [],
   "source": [
    "# Import necessary libraries\n",
    "import pandas as pd\n",
    "import seaborn as sns\n",
    "import matplotlib.pyplot as plt"
   ]
  },
  {
   "cell_type": "code",
   "execution_count": 101,
   "metadata": {},
   "outputs": [
    {
     "data": {
      "image/png": "[encoded data removed]",
      "text/plain": [
       "<Figure size 640x480 with 1 Axes>"
      ]
     },
     "metadata": {},
     "output_type": "display_data"
    }
   ],
   "source": [
    "# Plot normalized histograms (PMFs) for both first births and other births\n",
    "# The 'density=True' parameter normalizes the data to form a probability density (PMF)\n",
    "# The 'alpha' parameter sets the transparency of the histogram bars\n",
    "fb.hist(density=True, alpha=0.5)  # First births histogram\n",
    "ob.hist(density=True, alpha=0.5, color=sns.desaturate(\"indianred\", 0.75))  # Other births histogram\n",
    "plt.title('PMF of Pregnancy Lengths')\n",
    "plt.xlabel('Weeks')\n",
    "plt.ylabel('Probability')\n",
    "plt.show()"
   ]
  },
  {
   "cell_type": "markdown",
   "metadata": {},
   "source": [
    "#### Understanding PMF and CDF\n",
    "\n",
    "When we analyze data, two fundamental concepts that describe the distribution are the Probability Mass Function (PMF) and the Cumulative Distribution Function (CDF). These functions help us understand the nature of our data and make predictions based on it.\n",
    "\n",
    "##### What is PMF?\n",
    "\n",
    "The **Probability Mass Function (PMF)** applies to discrete random variables and is used to describe the probability that a random variable is exactly equal to a certain value. For example, in a dice roll, the PMF would tell us the probability of rolling a two or a five.\n",
    "\n",
    "- **Discrete Data**: PMF is only used for discrete data where outcomes are distinct and countable.\n",
    "- **Probability**: The PMF assigns a probability to each possible outcome.\n",
    "- **Sum to One**: The sum of all probabilities in a PMF is equal to 1.\n",
    "\n",
    "##### What is CDF?\n",
    "\n",
    "The **Cumulative Distribution Function (CDF)**, on the other hand, is a broader concept that applies to both discrete and continuous random variables. It gives us the probability that a random variable will be less than or equal to a certain value. It accumulates the probabilities of a PMF or Probability Density Function (PDF) for continuous variables.\n",
    "\n",
    "- **Accumulating Probabilities**: The CDF adds up (or \"accumulates\") the probabilities of the variable being less than or equal to a certain value.\n",
    "- **Range from Zero to One**: A CDF starts at 0 and increases up to 1 as you move along the axis of possible values.\n",
    "- **Applicable to All Data Types**: Whether your data is discrete or continuous, you can use a CDF to describe it.\n",
    "\n",
    "##### PMF vs. CDF\n",
    "\n",
    "- **Granularity**: PMF gives the probability for specific, distinct outcomes, while CDF provides the probability up to and including a certain value, which can be any number in the variable's range.\n",
    "- **Visualization**: On a graph, a PMF is represented by bars (since it applies to discrete data), whereas a CDF is a curve that starts at 0 and gradually increases to 1.\n",
    "- **Use Cases**: PMF is useful when you're interested in the probability of specific outcomes, like the number of heads in coin flips. CDF is helpful when you're concerned with \"up to\" questions, like the probability of a task being completed within a certain time frame.\n",
    "\n",
    "By understanding both PMF and CDF, we gain a comprehensive picture of our data's distribution. PMF tells us about specific probabilities, while CDF gives us a running total of probabilities, showing us the probability of falling within a certain range."
   ]
  },
  {
   "cell_type": "code",
   "execution_count": null,
   "metadata": {},
   "outputs": [],
   "source": [
    "# Plot cumulative distribution functions (CDFs) for both groups\n",
    "# The 'cumulative=True' parameter creates the cumulative plot, which shows the CDF\n",
    "# The 'linewidth' parameter sets the width of the histogram outline\n",
    "fb.hist(density=True, cumulative=True, alpha=0.5, linewidth=3.5)  # First births CDF\n",
    "ob.hist(density=True, cumulative=True, alpha=0.5, linewidth=3.5, color=sns.desaturate(\"indianred\", 0.75))  # Other births CDF\n",
    "plt.title('CDF of Pregnancy Lengths')\n",
    "plt.xlabel('Weeks')\n",
    "plt.ylabel('Cumulative Probability')\n",
    "plt.show()"
   ]
  },
  {
   "cell_type": "code",
   "execution_count": null,
   "metadata": {},
   "outputs": [],
   "source": [
    "# Explore the effect of different bin sizes on the PMF\n",
    "# Here we use 10 bins to show a less granular view of the data distribution\n",
    "fb.hist(bins=10, density=True, alpha=0.5)  # First births with 10 bins\n",
    "ob.hist(bins=10, density=True, alpha=0.5, color=sns.desaturate(\"indianred\", 0.75))  # Other births with 10 bins\n",
    "plt.title('PMF of Pregnancy Lengths with 10 Bins')\n",
    "plt.xlabel('Weeks')\n",
    "plt.ylabel('Probability')\n",
    "plt.show()"
   ]
  },
  {
   "cell_type": "code",
   "execution_count": null,
   "metadata": {},
   "outputs": [],
   "source": [
    "# Plot step CDFs with 30 bins for a more granular view\n",
    "# The 'histtype' parameter set to 'step' creates a line plot for the histogram\n",
    "fb.hist(density=True, histtype='step', cumulative=True, linewidth=3.5, bins=30)\n",
    "ob.hist(density=True, histtype='step', cumulative=True, linewidth=3.5, bins=30, color=sns.desaturate(\"indianred\", 0.75))\n",
    "plt.title('Step CDF of Pregnancy Lengths with 30 Bins')\n",
    "plt.xlabel('Weeks')\n",
    "plt.ylabel('Cumulative Probability')\n",
    "plt.show()\n",
    "\n",
    "# The output of these histograms should give students a clear visual understanding of the\n",
    "# distribution of pregnancy lengths and how they accumulate over the range of data.\n",
    "# By adjusting the 'bins' parameter, we can see how granularity affects the interpretation\n",
    "# of the PMF and CDF. Fewer bins provide a broader overview, while more bins offer more detail."
   ]
  },
  {
   "cell_type": "markdown",
   "metadata": {},
   "source": [
    "### 3.4 Outliers"
   ]
  },
  {
   "cell_type": "markdown",
   "metadata": {},
   "source": [
    "Outliers are data points that stand out significantly from the rest of the data. These unusual points are important because they can strongly influence the results of your analysis. Here, we'll explore what outliers are, how they impact your data, and the challenging task of managing them.\n",
    "\n",
    "![](https://miro.medium.com/v2/resize:fit:697/1*O3lOgPwuHP7Vfc1T6NDRrQ.png)\n",
    "\n",
    "#### What are Outliers?\n",
    "\n",
    "Outliers occur for various reasons:\n",
    "\n",
    "- **Measurement or Input Error**: These are often due to mistakes in data collection, such as errors in data entry or faulty measurements.\n",
    "\n",
    "- **Data Processing Error**: Errors can also arise during the processing or manipulation of data.\n",
    "\n",
    "- **Sampling Variability**: Sometimes, the natural variation in data can produce extreme values, especially in small samples.\n",
    "\n",
    "- **True Variability in Data**: In certain cases, outliers are actual, significantly different values in the dataset.\n",
    "\n",
    "#### Identifying Outliers\n",
    "\n",
    "Two common methods to identify outliers are:\n",
    "\n",
    "1. **Deviation from the Median**: Observations far from the median are potential outliers, as the median is more robust to extreme values than the mean.\n",
    "\n",
    "2. **Standard Deviation Method**: Observations more than 2 or 3 standard deviations from the mean are often considered outliers. This approach assumes a normal distribution of data.\n",
    "\n",
    "#### The Impact of Outliers\n",
    "\n",
    "Outliers can significantly affect your data analysis:\n",
    "\n",
    "- **Statistical Measures**: They can skew measures like the mean and standard deviation.\n",
    "\n",
    "- **Model Accuracy**: In predictive models, outliers can lead to poor performance due to overfitting or underfitting.\n",
    "\n",
    "- **Data Insights**: They can also provide valuable insights, indicating special cases or errors.\n",
    "\n",
    "#### The Challenge of Handling Outliers\n",
    "\n",
    "Dealing with outliers is not straightforward and depends heavily on the context and goals of your analysis:\n",
    "\n",
    "- **Understanding the Cause**: It's crucial to understand why an outlier exists - is it an error, or does it represent a meaningful variation in the data?\n",
    "\n",
    "- **No Standard Approach**: There's no one-size-fits-all method for handling outliers. In some cases, removing outliers is appropriate, while in others, adjusting them or keeping them can be more informative.\n",
    "\n",
    "- **Impact on Analysis**: The decision to remove or adjust outliers should be made carefully, as it can significantly alter the results of the analysis.\n",
    "\n",
    "Remember, handling outliers is as much an art as it is a science. It requires careful consideration and a thorough understanding of your data.\n",
    "\n",
    "[Interesting article about outliers](https://www.freecodecamp.org/news/what-is-an-outlier-definition-and-how-to-find-outliers-in-statistics/)\n",
    "\n",
    "\n",
    "#### Managing Outliers\n",
    "\n",
    "Handling outliers is a nuanced task. The approach depends on the nature of the data and the specific analytical goals:\n",
    "\n",
    "1. **Assessment**: Determine whether the outlier is due to error or"
   ]
  },
  {
   "cell_type": "code",
   "execution_count": null,
   "metadata": {
    "scrolled": false
   },
   "outputs": [],
   "source": [
    "# This line creates a cumulative histogram, which is useful for understanding the distribution of these unusually first bort babies.\n",
    "# The 'density=True' parameter ensures the histogram represents probability density.\n",
    "fb.hist(density=True, histtype='step', cumulative=True, linewidth=3.5, bins=30)"
   ]
  },
  {
   "cell_type": "markdown",
   "metadata": {},
   "source": [
    "#### Analyzing Outliers in Pregnancy Length\n",
    "\n",
    "The graph above is a cumulative histogram of pregnancy lengths that are notably shorter than the median. This visual tool is instrumental for understanding how many pregnancies fall into the category of being unusually short, which could be considered outliers.\n",
    "\n",
    "##### Key Features of the Cumulative Histogram:\n",
    "\n",
    "- **X-Axis (Pregnancy Length)**: Represents the length of pregnancies in weeks. It is the variable we are analyzing for outliers.\n",
    "  \n",
    "- **Y-Axis (Cumulative Proportion)**: Indicates the cumulative proportion of pregnancies up to a certain length. For instance, at point 30 on the x-axis, the y-axis shows the proportion of pregnancies that are 30 weeks long or shorter.\n",
    "\n",
    "- **Stepped Line**: Unlike a typical bar histogram, this plot uses a stepped line, which clearly demarcates the proportion of cases at each length.\n",
    "\n",
    "##### Insights from the Histogram:\n",
    "\n",
    "- **Identifying Outliers**: By observing where the line steeply increases, we can identify the range of pregnancy lengths that are most uncommon – the potential outliers. In the context of the dataset, pregnancies that are significantly shorter than the median by more than 10 weeks are rare, and thus, they stand out in our analysis.\n",
    "\n",
    "- **Understanding Distribution**: The cumulative nature of the histogram helps us understand not just individual outliers, but also the overall distribution of the shorter pregnancy lengths.\n",
    "\n",
    "##### Importance for Outlier Analysis:\n",
    "\n",
    "This histogram is a powerful way to visualize and communicate the concept of outliers. It doesn't just show us isolated data points; it provides a broader view of how many and how extreme the outliers are relative to typical data points. For students of data analysis, understanding this graph is essential for interpreting outlier data and making informed decisions about how to handle them in statistical analysis."
   ]
  },
  {
   "cell_type": "code",
   "execution_count": null,
   "metadata": {},
   "outputs": [],
   "source": [
    "# This line creates a cumulative histogram for this subset, similar to the previous line, but for other babies.\n",
    "# The color is set to a desaturated red for distinction in the plot.\n",
    "ob.hist(density=True, histtype='step', cumulative=True, linewidth=3.5, bins=30, color=sns.desaturate(\"indianred\", .75))"
   ]
  },
  {
   "cell_type": "code",
   "execution_count": null,
   "metadata": {},
   "outputs": [],
   "source": [
    "# Filtering the DataFrame to identify unusually long pregnancies:\n",
    "# This time, we select records of live births where the pregnancy length is \n",
    "# more than 6 weeks longer than the median. These are also potential outliers.\n",
    "long_pregnancies = df[(df.outcome == 1) & (df['prgLength'] > df['prgLength'].median() + 6)]"
   ]
  },
  {
   "cell_type": "code",
   "execution_count": null,
   "metadata": {},
   "outputs": [],
   "source": [
    "# Filtering the DataFrame to identify pregnancies that are unusually short:\n",
    "# We select records where the outcome is '1' (live birth) and the pregnancy length is\n",
    "# more than 10 weeks shorter than the median pregnancy length. These cases are potential outliers.\n",
    "short_pregnancies = df[(df.outcome == 1) & (df['prgLength'] < df['prgLength'].median() - 10)]"
   ]
  },
  {
   "cell_type": "markdown",
   "metadata": {},
   "source": [
    "![](https://miro.medium.com/v2/resize:fit:1348/1*4G0913txXERfABjQi3Ho2w.png)\n",
    "\n",
    "In data analysis, we often encounter outliers that can skew our results. There are several methods to treat these outliers, each with its own advantages and considerations:\n",
    "\n",
    "1. **Trimming**: This technique involves cutting off the most extreme values from your dataset. It's useful when you suspect that these values are errors or may disproportionately affect the results. While trimming can lead to a more robust analysis, it also reduces the dataset's size, which might not be desirable in every situation.\n",
    "\n",
    "2. **Capping (Winsorizing)**: Capping involves setting a threshold at a certain percentile for the highest and lowest data points and capping values beyond this threshold. For instance, any values above the 95th percentile are set to the value at the 95th percentile. This method preserves the dataset size and prevents the most extreme outliers from having an undue influence on the analysis.\n",
    "\n",
    "3. **Discretization**: This method transforms continuous data into discrete bins or categories. By grouping data into intervals, discretization can simplify analysis and make patterns more apparent. However, this can also lead to a loss of nuanced information and reduce the granularity of the data.\n",
    "\n",
    "Each method has its own applications and should be chosen based on the specific context and goals of your analysis.\n"
   ]
  },
  {
   "cell_type": "code",
   "execution_count": null,
   "metadata": {},
   "outputs": [],
   "source": [
    "df2 = df.drop(df.index[(df.outcome == 1) & \n",
    "                       (df['prgLength'] > df['prgLength'].median() + 6)])\n",
    "\n",
    "df3 = df2.drop(df2.index[(df2.outcome == 1) & \n",
    "                         (df2['prgLength'] < df2['prgLength'].median() - 10)])"
   ]
  },
  {
   "cell_type": "code",
   "execution_count": null,
   "metadata": {},
   "outputs": [],
   "source": [
    "fb3 = df3[(df3.outcome == 1) & (df3.birthOrd == 1)]\n",
    "\n",
    "mu3fb = fb3['prgLength'].mean()\n",
    "std3fb = fb3['prgLength'].std()\n",
    "md3fb = fb3['prgLength'].median()\n",
    "\n",
    "print('Before outliers removing: ', mu1, std1, firstbirthmedian, \n",
    "          firstbirth['prgLength'].min(), firstbirth['prgLength'].max())\n",
    "print('After outliers removing: ', mu3fb, std3fb, md3fb, \n",
    "          fb3['prgLength'].min(),fb3['prgLength'].max())"
   ]
  },
  {
   "cell_type": "code",
   "execution_count": null,
   "metadata": {},
   "outputs": [],
   "source": [
    "ob3 = df3[(df3.outcome == 1) & (df3.birthOrd >= 2)]\n",
    "\n",
    "mu3ob = ob3['prgLength'].mean()\n",
    "std3ob = ob3['prgLength'].std()\n",
    "md3ob = ob3['prgLength'].median()\n",
    "\n",
    "print('Before outliers removing: ', mu2, std2, othersbirthmedian, \n",
    "          othersbirth['prgLength'].min(),othersbirth['prgLength'].max())\n",
    "\n",
    "print('After outliers removing: ', mu3ob, std3ob, md3ob, \n",
    "          ob3['prgLength'].min(), ob3['prgLength'].max())"
   ]
  },
  {
   "cell_type": "markdown",
   "metadata": {},
   "source": [
    "##### (Extra Not for class)"
   ]
  },
  {
   "cell_type": "code",
   "execution_count": null,
   "metadata": {},
   "outputs": [],
   "source": [
    "import matplotlib.pyplot as plt\n",
    "\n",
    "fig = plt.figure(figsize=(15,3))\n",
    "\n",
    "df3.prgLength[(df3.outcome == 1)].plot(alpha=.5, color='blue')\n",
    "df.prgLength[(df.outcome == 1)].plot(alpha=.5, \n",
    "                            color=sns.desaturate(\"indianred\", .95))\n"
   ]
  },
  {
   "cell_type": "markdown",
   "metadata": {},
   "source": [
    "Let's see what is happening near the mode:"
   ]
  },
  {
   "cell_type": "code",
   "execution_count": null,
   "metadata": {},
   "outputs": [],
   "source": [
    "import numpy as np\n",
    "\n",
    "countfb,divisionfb = np.histogram(fb3['prgLength']) #what is the difference with hist()?!\n",
    "countob,divisionob = np.histogram(ob3['prgLength'])\n",
    "print (countfb-countob)\n"
   ]
  },
  {
   "cell_type": "code",
   "execution_count": null,
   "metadata": {},
   "outputs": [],
   "source": [
    "import matplotlib.pyplot as plt\n",
    "\n",
    "fig = plt.figure(figsize=(15,3))\n",
    "val = [(divisionfb[i]+divisionfb[i+1])/2 for i in range(len(divisionfb)-1)]\n",
    "plt.plot(val, countfb-countob, 'o-', label='difference') \n",
    "plt.plot(val, countfb, 'r*-', label='First babies') \n",
    "plt.plot(val, countob, 'g+-', label='Other babies') \n",
    "plt.legend()"
   ]
  },
  {
   "cell_type": "code",
   "execution_count": null,
   "metadata": {},
   "outputs": [],
   "source": [
    "import matplotlib.pyplot as plt\n",
    "\n",
    "fig = plt.figure(figsize=(15,3))\n",
    "val = [(divisionfb[i]+divisionfb[i+1])/2 for i in range(len(divisionfb)-1)]\n",
    "plt.plot(val, countfb-countob, 'o-', label='difference') \n",
    "plt.legend()"
   ]
  },
  {
   "cell_type": "markdown",
   "metadata": {},
   "source": [
    "#### There is still some evidence for our hypothesis!"
   ]
  },
  {
   "cell_type": "markdown",
   "metadata": {},
   "source": [
    "# DAY 2"
   ]
  },
  {
   "cell_type": "markdown",
   "metadata": {},
   "source": [
    "### 3.5 Measuring Asymmetry"
   ]
  },
  {
   "cell_type": "markdown",
   "metadata": {},
   "source": [
    "Measuring Asymmetry\n",
    "\n",
    "When examining the shape of a distribution, one of the things we look for is whether it's symmetrical or skewed. This aspect of the distribution is measured by a statistic called **skewness**.\n",
    "\n",
    "![](https://cdn.corporatefinanceinstitute.com/assets/skewness2.png)\n",
    "\n",
    "#### Understanding Skewness\n",
    "\n",
    "Skewness quantifies how asymmetrical the distribution of a set of data is. Mathematically, it's expressed as:\n",
    "\n",
    "$$ g_1 = \\frac{m_3}{s^3} = \\frac{\\frac{1}{n} \\sum_i (x_i - \\mu)^3 }{\\left[\\frac{1}{n-1} \\sum_i (x_i - \\mu)^2\\right]^{\\frac{3}{2}}} $$\n",
    "\n",
    "In this formula:\n",
    "- $m_3$ is the third central moment, which is the mean cubed deviation (how much each data point differs from the mean, cubed).\n",
    "- $s$ is the standard deviation, which is the square root of variance (the average squared deviation).\n",
    "- The numerator calculates the average of how far each value lies from the mean, raised to the power of three, capturing the direction and the degree of skew.\n",
    "- The denominator normalizes this value, adjusting for the spread of the distribution so that skewness is standardized.\n",
    "\n",
    "#### Interpreting Skewness\n",
    "\n",
    "- A **positive skewness** indicates that the distribution has a longer tail on the right side, with data values stretching out further in the positive direction.\n",
    "- A **negative skewness** means that the distribution has a longer tail on the left side, stretching out more in the negative direction.\n",
    "\n",
    "#### The Effect of Outliers\n",
    "\n",
    "One important thing to note about skewness is that it's sensitive to outliers. A single outlier can significantly skew the distribution, making the skewness measure less representative of the overall data.\n",
    "\n",
    "#### Mean vs. Median\n",
    "\n",
    "A simpler way to assess asymmetry is to look at the relationship between the mean ($\\mu$) and median ($\\mu_{\\frac{1}{2}}$):\n",
    "\n",
    "- If the mean is greater than the median (mean > median), the distribution is positively skewed.\n",
    "- If the mean is less than the median (mean < median), the distribution is negatively skewed.\n",
    "\n",
    "By comparing the mean and median, we can get a quick sense of the direction of the skew. However, for a precise measure of asymmetry, especially in larger datasets where outliers might not have as much influence, skewness provides a more detailed picture.\n",
    "\n",
    "In our analysis, we'll use skewness to investigate the symmetry of our dataset's distribution, keeping in mind the potential impact of any outliers we've identified.\n",
    "\n",
    "#### Real-Life Application of Measuring Asymmetry: Finance\n",
    "\n",
    "In the world of finance, **skewness** is a crucial statistic for investors who are looking to understand the risks associated with different investment opportunities. It provides insight into the probability of seeing unusually large or small returns.\n",
    "\n",
    "#### Investment Return Analysis\n",
    "\n",
    "Consider an investor comparing two stocks based on their historical returns:\n",
    "\n",
    "- **Stock A**: Shows a *positive skewness* in its return distribution. This indicates that there are occasional outsized gains but most of the returns are modest. The investor might be attracted by the potential for high returns, but they should also consider that these high returns are not the norm and that the average return might be lower than expected.\n",
    "\n",
    "- **Stock B**: Has a *negative skewness*, suggesting a frequent occurrence of small losses but generally higher returns than the average. A risk-averse investor might prefer this stock, as it typically yields better returns, despite the potential for minor losses.\n",
    "\n",
    "Skewness helps investors go beyond the average, revealing the shape of the distribution of past returns. This shape can indicate whether an investment is more likely to give consistent returns or whether it has a chance of either high gains or significant losses.\n",
    "\n",
    "For a risk-averse investor, Stock B might be more appealing despite the possibility of losses because the most frequent outcomes are better than the mean, and there are fewer extreme lows compared to Stock A. The skewness has provided an insight that the average return on its own would not reveal — that while"
   ]
  },
  {
   "cell_type": "markdown",
   "metadata": {},
   "source": [
    "#### 3.5.1 Understanding Pearson's Median Skewness Coefficient\n",
    "\n",
    "When assessing the asymmetry of a dataset, one alternative to the standard skewness measure is **Pearson's median skewness coefficient**. This statistic is less influenced by outliers and provides a measure of skewness based on the median, mean, and standard deviation of the dataset.\n",
    "\n",
    "##### Pearson's Median Skewness Coefficient Defined\n",
    "\n",
    "Pearson's median skewness coefficient is calculated with the following formula:\n",
    "\n",
    "$$ g_p = \\frac{3(\\mu - \\mu_{\\frac{1}{2}})}{\\sigma} $$\n",
    "\n",
    "In this formula:\n",
    "- $\\mu$ is the mean, or average, of the data.\n",
    "- $\\mu_{\\frac{1}{2}}$ is the median, or the middle value when the data is ordered.\n",
    "- $\\sigma$ is the standard deviation, which measures the average amount that values differ from the mean.\n",
    "\n",
    "The numerator, $3(\\mu - \\mu_{\\frac{1}{2}})$, finds the difference between the mean and median, then triples it. This emphasizes any difference between the two measures of central tendency.\n",
    "\n",
    "##### Why Use Pearson's Coefficient?\n",
    "\n",
    "Pearson's median skewness coefficient is particularly useful because it is robust against outliers. Since the median is less affected by extreme values compared to the mean, this coefficient can provide a clearer picture of a dataset's skewness when outliers are present.\n",
    "\n",
    "##### Real-Life Example: Income Distribution\n",
    "\n",
    "Consider a dataset of incomes for a region. Income data is often skewed because a small number of people earn significantly more than the rest. If a billionaire moves into a small town, the average income could increase dramatically, while the median income would be less affected.\n",
    "\n",
    "By using Pearson's median skewness coefficient, we can get a better sense of the income distribution's asymmetry that is less distorted by the billionaire's income. If $g_p$ is significantly positive, it suggests that the income distribution is skewed to the right, meaning that the majority of the population earns less than the average income. If $g_p$ is negative, the distribution is skewed to the left.\n",
    "\n",
    "##### Conclusion\n",
    "\n",
    "Pearson's median skewness coefficient is a reliable measure of skewness when you want to mitigate the influence of outliers. It helps analysts and researchers to understand the true nature of the asymmetry in a dataset, leading to more informed decision-making."
   ]
  },
  {
   "cell_type": "code",
   "execution_count": null,
   "metadata": {},
   "outputs": [],
   "source": [
    "# Extract the 'prgLength' column from the 'fb3' DataFrame for first births\n",
    "fb33 = fb3['prgLength']\n",
    "\n",
    "# Extract the 'prgLength' column from the 'ob3' DataFrame for other births\n",
    "ob33 = ob3['prgLength']\n",
    "\n",
    "# Using scipy's 'stats' module to describe the first births data.\n",
    "# The 'describe' function returns several descriptive statistics including the size of the dataset,\n",
    "# the minimum and maximum values, the mean, variance, skewness, and kurtosis.\n",
    "print('Firstbirths: ', stats.describe(fb33.values), '\\n')\n",
    "\n",
    "# Using scipy's 'stats' module to describe the other births data.\n",
    "# Similar to above, this will provide a comprehensive statistical description of the other births data.\n",
    "print('Otherbirths: ', stats.describe(ob33.values))"
   ]
  },
  {
   "cell_type": "markdown",
   "metadata": {},
   "source": [
    "**Exercise**: Write a function to compute $g_1$ and $g_p$ of the pregnancy length."
   ]
  },
  {
   "cell_type": "code",
   "execution_count": null,
   "metadata": {},
   "outputs": [],
   "source": [
    "## Your solution here"
   ]
  },
  {
   "cell_type": "markdown",
   "metadata": {},
   "source": [
    "**Exercise**:\n",
    "\n",
    "+ Read the file ``run10.txt`` from the ``files`` directory. It represents 16.924 runners who finished the 2012 Cherry Blossom 10 mile run in USA. The file is a ``tab``separated file. It can be read with the pandas ``read_table`` function.\n",
    "+ Compute the mean time.\n",
    "+ Compute the difference in mean between men and women.\n",
    "+ Visualize both distributions (normalized histogram)."
   ]
  },
  {
   "cell_type": "code",
   "execution_count": null,
   "metadata": {},
   "outputs": [],
   "source": [
    "## Your solution here"
   ]
  },
  {
   "cell_type": "markdown",
   "metadata": {},
   "source": [
    "**Exercises**: \n",
    "\n",
    "+ Could you give a real example, where for all data **samples**, $x_i \\leq \\mu$? \n",
    "+ Could you give a real example, where for all data **samples**, $x_i \\leq \\mu_{\\frac{1}{2}}$? This is really a distribution that skews left!\n",
    "+ If we ask to a random group of people \"What is your position with respect to the average driver?\", what kind of distribution do you thikn would we get? "
   ]
  },
  {
   "cell_type": "code",
   "execution_count": null,
   "metadata": {},
   "outputs": [],
   "source": [
    "## Your solution here"
   ]
  },
  {
   "cell_type": "markdown",
   "metadata": {},
   "source": [
    "### 3.6 Relative Risk"
   ]
  },
  {
   "cell_type": "markdown",
   "metadata": {},
   "source": [
    "Relative Risk\n",
    "\n",
    "#### Theoretical Introduction to Relative Risk\n",
    "\n",
    "Relative risk is a statistical measure used to describe the likelihood of a certain event occurring in one group compared to another. It is often used in medical and epidemiological research to understand the risk factors and outcomes for different conditions or treatments. The relative risk is calculated as the ratio of the probability of the event occurring in the exposed (or affected) group to the probability of the event in the control (or non-affected) group.\n",
    "\n",
    "Mathematically, if $P_1$ is the probability of an event in the exposed group, and $P_2$ is the probability in the control group, then the relative risk (RR) is calculated as:\n",
    "\n",
    "$[ RR = \\frac{P_1}{P_2} ]$\n",
    "\n",
    "#### Application to Birth Timing\n",
    "\n",
    "In the context of birth outcomes based on gestational age, we define three categories:\n",
    "\n",
    "- **Early**: Babies born during week 37 or earlier. These are \"preterm\" or \"premature\" births, facing various health risks due to underdevelopment.\n",
    "- **On Time**: Births during weeks 38, 39, or 40. These are considered full-term, typically with the lowest risk for complications.\n",
    "- **Late**: Babies born during week 41 or later. Late-term births may have different risks like complications from a larger body size.\n",
    "\n",
    "#### Deeper Explanation of Relative Risk in Birth Outcomes\n",
    "\n",
    "- To calculate the relative risk of a specific complication (e.g., respiratory distress) in preterm babies, we first determine the incidence rate of this complication in both the preterm (early) and full-term (on time) groups.\n",
    "- For instance, if 15% of preterm babies face respiratory distress compared to only 3% of full-term babies, the relative risk is 15% / 3% = 5. This indicates that preterm babies are five times more likely to suffer from this complication.\n",
    "\n",
    "#### Real-World Example of Relative Risk:\n",
    "\n",
    "- An example can be seen in the risk of developmental delays in preterm babies. Studies show that preterm babies have a higher relative risk of facing developmental challenges compared to full-term babies. This is due to the early interruption of crucial developmental stages that occur in the final weeks of pregnancy. Understanding these risks allows healthcare providers to implement targeted interventions and monitoring for these children."
   ]
  },
  {
   "cell_type": "markdown",
   "metadata": {},
   "source": [
    "**Let's compute the probability of being *early*, *on time* and *late* for first babies and the others.**"
   ]
  },
  {
   "cell_type": "code",
   "execution_count": null,
   "metadata": {},
   "outputs": [],
   "source": [
    "print(\"First babies: \")\n",
    "print('Early: ',len(fb3[fb3['prgLength'] <38])/float(len(fb3.index)))\n",
    "\n",
    "print('Late: ', len(fb3[fb3['prgLength'] >40])/float(len(fb3.index)))\n",
    "\n",
    "print('On time: ',len(fb3[(fb3['prgLength'] >37)&(fb3['prgLength'] < 41)])/float(len(fb3.index)))"
   ]
  },
  {
   "cell_type": "code",
   "execution_count": null,
   "metadata": {
    "scrolled": true
   },
   "outputs": [],
   "source": [
    "print(\"Other babies:\")\n",
    "print(\"Early\", len(ob3[ob3['prgLength'] <38])/float(len(ob3.index)))\n",
    "\n",
    "print(\"Late\", len(ob3[ob3['prgLength'] >40])/float(len(ob3.index)))\n",
    "\n",
    "print(\"On time\", len(ob3[(ob3['prgLength'] >37) &\n",
    "                        (ob3['prgLength']<41)])/float(len(ob3.index)))"
   ]
  },
  {
   "cell_type": "markdown",
   "metadata": {},
   "source": [
    "The **relative risk** is the ratio of two probabilities. In our case, the probability that a first baby is born early is 17%. For other babies is 16%, so the relative risk is:"
   ]
  },
  {
   "cell_type": "code",
   "execution_count": null,
   "metadata": {},
   "outputs": [],
   "source": [
    "earlyfb = len(fb3[fb3['prgLength'] <38])/float(len(fb3.index))\n",
    "earlyob = len(ob3[ob3['prgLength'] <38])/float(len(ob3.index))\n",
    "print(\"First babies are about\", earlyfb/earlyob, \"more likely to be early.\")"
   ]
  },
  {
   "cell_type": "markdown",
   "metadata": {},
   "source": [
    "That means that first babies are about 7% more likely to be early. For the case of late births:"
   ]
  },
  {
   "cell_type": "code",
   "execution_count": null,
   "metadata": {},
   "outputs": [],
   "source": [
    "latefb = len(fb3[fb3['prgLength'] >40])/float(len(fb3))\n",
    "lateob = len(ob3[ob3['prgLength'] >40])/float(len(ob3))\n",
    "print(\"First babies are about\", latefb/lateob, \"more likely to be late.\")"
   ]
  },
  {
   "cell_type": "markdown",
   "metadata": {},
   "source": [
    "That means that first babies are about 67% more likely to be late. "
   ]
  },
  {
   "cell_type": "markdown",
   "metadata": {},
   "source": [
    "## 4. Probabilities"
   ]
  },
  {
   "cell_type": "markdown",
   "metadata": {},
   "source": [
    "### 4.0.0 Intro to Probability"
   ]
  },
  {
   "cell_type": "markdown",
   "metadata": {},
   "source": [
    "Probability is the branch of mathematics that deals with the likelihood of different outcomes. It provides a quantifiable measure to predict how likely events are to occur.\n",
    "\n",
    "#### Definition of Probability\n",
    "\n",
    "The most common definition of **probability** is a *frequency expressed as a fraction* of the universe of possible outcomes. This means probability is a real value between 0 and 1, where 0 indicates impossibility and 1 indicates certainty. Probabilities aim to quantify the idea that some things are more likely to happen than others.\n",
    "\n",
    "- #### Frequentism\n",
    "\n",
    "    Frequentism is a traditional approach to probability, focusing on the frequency or proportion of outcomes in a large number of trials. It is based on the idea that probability can be determined by conducting experiments or observations and counting the frequency of outcomes. \n",
    "\n",
    "    - **Key Concept**: Probability as Long-Run Frequency\n",
    "        - In Frequentism, probability is interpreted as the limit of its relative frequency in a large number of trials. \n",
    "        - For example, consider tossing a fair coin many times. As the number of tosses increases, the relative frequency of getting heads will tend to stabilize around 0.5. This stable value is considered the probability of getting heads.\n",
    "\n",
    "    - **Application in Experiments**:\n",
    "        - Frequentism is commonly used in scientific experiments and studies. For instance, if a new drug is tested on a large group of people and 45% show improvement, a frequentist would interpret this as the probability of the drug's effectiveness being 45%.\n",
    "\n",
    "- #### Bayesianism\n",
    "\n",
    "    Bayesianism takes a different approach by incorporating prior knowledge or belief into the calculation of probability. It is named after Thomas Bayes, who formulated the famous Bayes' Theorem.\n",
    "\n",
    "    - **Key Concept**: Probability as Degree of Belief\n",
    "        - Bayesian probability is subjective and represents a degree of belief or confidence in an event occurring. This belief is updated as new evidence or information becomes available.\n",
    "        - Bayesianism allows the use of prior knowledge or existing information to influence the calculation of probability.\n",
    "\n",
    "    - **Practical Example**:\n",
    "        - Consider the question: \"What is the probability that Thaksin Shinawatra is the Prime Minister of Thailand?\" \n",
    "        - A Bayesian approach would start with an initial belief (prior probability) based on existing knowledge (e.g., historical data, news, etc.) and update this belief as new information becomes available (like recent election results).\n",
    "\n",
    "    - **Bayes' Theorem**:\n",
    "        - Bayes' Theorem is central to Bayesian probability. It provides a way to update the probability of a hypothesis as more evidence or information is acquired.\n",
    "        - The theorem combines the prior probability, the likelihood of the current evidence under different hypotheses, and the overall probability of the evidence to give an updated probability (posterior probability).\n",
    "\n",
    "- #### Differences Between Frequentism and Bayesianism\n",
    "\n",
    "\n",
    "    - **Objective vs. Subjective**:\n",
    "        - Frequentism is often seen as more objective, as it relies on the frequency of events in repeated trials.\n",
    "        - Bayesianism is more subjective, as it depends on prior beliefs and the interpretation of new evidence.\n",
    "\n",
    "    - **Static vs. Dynamic**:\n",
    "        - Frequentist probabilities are static as they are based on long-run frequencies in repeated experiments.\n",
    "        - Bayesian probabilities are dynamic and can change as new information is incorporated.\n",
    "\n",
    "    - **Application**:\n",
    "        - Frequentism is widely used in fields where outcomes can be repeatedly observed under similar conditions.\n",
    "        - Bayesianism is useful in situations where incorporating prior knowledge or adjusting beliefs as new data comes in is crucial.\n",
    "\n",
    "    Understanding these two perspectives provides a comprehensive view of probability, helping students to apply the right approach based on the context of the problem.\n",
    "\n",
    "\n",
    "#### 3.2 Events and Trials\n",
    "\n",
    "#### Events\n",
    "\n",
    "The *things* to which we assign probabilities are called **events**, denoted as E. An event is any outcome or set of outcomes.\n",
    "\n",
    "#### Trials\n",
    "\n",
    "A *situation* in which an event might or might not happen is called a **trial**. For example, in the case of rolling a six-sided die, each roll is a trial.\n",
    "\n",
    "- If we want to compute the probability of rolling a 6 (P(6)), each time a 6 appears is called a **success**.\n",
    "- Rolls that result in any number other than 6 are called **failures**.\n",
    "\n",
    "#### 3.3 Probability of Success\n",
    "\n",
    "In a *finite series of n identical trials*, if we observe s successes, the **probability of the success** is calculated as s/n. This ratio is a fundamental principle in probability, representing the frequency of success in repeated, independent trials.\n",
    "\n",
    "For example, if we roll a die 100 times and get a 6 on 20 of those rolls, the probability of rolling a 6, based on our experiment, is 20/100 or 0.20.\n",
    "\n",
    "#### 3.4 Binomial Distribution\n",
    "\n",
    "The binomial distribution is a probability distribution that summarizes the likelihood that a value will take one of two independent states across a series of trials. For example, it can represent the probability of getting a certain number of heads in a series of coin tosses.\n",
    "\n",
    "#### 3.5 Monte Carlo Methods\n",
    "\n",
    "Monte Carlo methods are a broad class of computational algorithms that rely on repeated random sampling to obtain numerical results. They are often used in situations where it is difficult or impossible to compute an exact result with a deterministic algorithm.\n",
    "\n",
    "---\n",
    "\n",
    "This overview provides a foundational understanding of probability, differentiating between frequentist and Bayesian approaches, and introducing key concepts like events, trials, and the probability of success.\n",
    "\n",
    "\n"
   ]
  },
  {
   "cell_type": "markdown",
   "metadata": {},
   "source": [
    "### 4.0.1 A First Glimpse at Conditional Probability"
   ]
  },
  {
   "cell_type": "markdown",
   "metadata": {},
   "source": [
    "First Glimpse at Conditional Probability\n",
    "\n",
    "#### Theoretical Background on Conditional Probability\n",
    "\n",
    "Conditional probability is a measure of the probability of an event occurring, given that another event has already occurred. This concept is essential in probability theory and statistics, allowing for more accurate predictions and analyses in various contexts.\n",
    "\n",
    "The conditional probability of an event $( A )$ given that event $( B )$ has occurred is denoted as $P(A|B)$ and is calculated using the formula:\n",
    "\n",
    "$ P(A|B) = \\frac{P(A \\cap B)}{P(B)} $\n",
    "\n",
    "Here, $ P(A \\cap B) $ is the probability of both $( A )$ and $( B )$ occurring, and $( P(B) )$ is the probability of $( B )$ occurring.\n",
    "\n",
    "![](https://assets.tivadardanka.com/2022_10_conditional_probability_featured_c9d47cc379.jpg)\n",
    "\n",
    "#### Applying Conditional Probability to Birth Timing\n",
    "\n",
    "In the scenario of birth timing, we consider two specific questions:\n",
    "\n",
    "#### Question 1: Probability of Birth in Week 39\n",
    "\n",
    "- **Event X**: The baby is born in week 39.\n",
    "- **Event Y**: The baby hasn't been born during weeks 0-38.\n",
    "- To calculate $( P(X|Y) )$, the probability of the baby being born in week 39 given it hasn't been born by week 38, we need to consider the proportion of births that happen in week 39 out of all births that have not occurred before week 39.\n",
    "\n",
    "#### Question 2: Probability for a First Baby\n",
    "\n",
    "- **Event Y** now also includes the condition that it's a first baby.\n",
    "- The conditional probability $( P(X|Y) )$ may change because the birth patterns for first-time births can differ from subsequent births.\n",
    "\n",
    "#### Detailed Explanation\n",
    "\n",
    "1. **Calculation for General Births:**\n",
    "    - If data indicates that, for example, 70% of babies not born by week 38 are born in week 39, then $( P(X|Y) = 70\\% )$.\n",
    "\n",
    "2. **Calculation for First-Time Births:**\n",
    "    - If the likelihood changes for first babies, and the data shows 80% of first babies not born by week 38 are born in week 39, then $( P(X|Y) = 80\\% )$ for first babies.\n",
    "\n",
    "3. **Implications in Real-World Contexts:**\n",
    "    - This probability is useful for expecting parents and healthcare providers to estimate birth timing.\n",
    "    - It demonstrates how additional information (like being a first baby) can refine probability estimates.\n",
    "\n",
    "In summary, conditional probability provides a way to adjust and refine probabilities based on additional information or conditions. In childbirth, it helps to estimate more accurately the likelihood of birth at different gestational stages, particularly when considering factors like first-time births."
   ]
  },
  {
   "cell_type": "markdown",
   "metadata": {},
   "source": [
    "A simple way to compute these chances is to drop from our data the cases that do not fulfill the conditions and then renormalize."
   ]
  },
  {
   "cell_type": "code",
   "execution_count": 102,
   "metadata": {},
   "outputs": [],
   "source": [
    "df4 = df3.drop(df3.index[df3['prgLength'] < 39]) "
   ]
  },
  {
   "cell_type": "markdown",
   "metadata": {},
   "source": [
    "We are ready to compute the probability that the baby will be born in the week 39 for a pregnant woman in the beginning of week 39."
   ]
  },
  {
   "cell_type": "code",
   "execution_count": 103,
   "metadata": {},
   "outputs": [
    {
     "name": "stdout",
     "output_type": "stream",
     "text": [
      "0.6789752397309289\n"
     ]
    }
   ],
   "source": [
    "print(len(df4[(df4.prgLength == 39)].index)/float(len(df4)))"
   ]
  },
  {
   "cell_type": "markdown",
   "metadata": {},
   "source": [
    "Let's now add the second condition."
   ]
  },
  {
   "cell_type": "code",
   "execution_count": 104,
   "metadata": {},
   "outputs": [
    {
     "data": {
      "text/plain": [
       "<Axes: >"
      ]
     },
     "execution_count": 104,
     "metadata": {},
     "output_type": "execute_result"
    },
    {
     "data": {
      "image/png": "[encoded data removed]",
      "text/plain": [
       "<Figure size 640x480 with 1 Axes>"
      ]
     },
     "metadata": {},
     "output_type": "display_data"
    }
   ],
   "source": [
    "fb39 = df4[(df4.birthOrd == 1)]\n",
    "ob39 = df4[(df4.birthOrd > 1)]\n",
    "\n",
    "fb39['prgLength'].hist(bins=6,  density=True, alpha=.5)   # default number of bins = 10, blue\n",
    "ob39['prgLength'].hist(bins=6,  density=True, alpha=.5, color=sns.desaturate(\"indianred\", .75))"
   ]
  },
  {
   "cell_type": "code",
   "execution_count": 105,
   "metadata": {},
   "outputs": [
    {
     "name": "stdout",
     "output_type": "stream",
     "text": [
      "Probability First baby to be born on week 39: 0.634644250975683\n"
     ]
    }
   ],
   "source": [
    "print('Probability First baby to be born on week 39:', \n",
    "    len(fb39[(fb39.prgLength == 39)].index)/\n",
    "    float(len(fb39.index)))"
   ]
  },
  {
   "cell_type": "code",
   "execution_count": 106,
   "metadata": {},
   "outputs": [
    {
     "name": "stdout",
     "output_type": "stream",
     "text": [
      "Probability non first baby to be born on week 39: 0.7169863775368363\n"
     ]
    }
   ],
   "source": [
    "print('Probability non first baby to be born on week 39:',\n",
    "    len(ob39[(ob39.prgLength == 39)].index)/\n",
    "    float(len(ob39.index)))\n"
   ]
  },
  {
   "cell_type": "markdown",
   "metadata": {},
   "source": [
    "#### Discussions.\n",
    "\n",
    "After exploring the data we have seen some **appearent effects** that seem to support our first hypothesis:\n",
    "\n",
    "+ **Data description**: The mean pregnant lenght for first babies is 38.76 and for other babies is 38.65.\n",
    "\n",
    "+ **Relative risk**: First babies are about 67% more likely to be late.\n",
    "\n",
    "+ **Conditional probability**: If someone is pregnant and it is the beginning of week 39, the chance (63% vs. 72%) that the baby will be born in the week 39 is lower if it is the first baby."
   ]
  },
  {
   "cell_type": "markdown",
   "metadata": {},
   "source": [
    "\n",
    "#### Exercises: Other possible experiments\n",
    "\n",
    "We can compare the first and others for the same woman. While it may be unlikely it could still be that a tendency exists for a woman's second, third, etc, child comes earlier.\n",
    "\n",
    "<small>(Result:  The second baby is born about some hours earlier, but this difference is not *statistically significant*.)<small>"
   ]
  },
  {
   "cell_type": "code",
   "execution_count": 107,
   "metadata": {},
   "outputs": [],
   "source": [
    "# Exercise 1: Disease Testing\n",
    "# Suppose 1% of a population has a certain disease. A test for the disease is 99% accurate.\n",
    "# What is the probability that a person has the disease given they tested positive?"
   ]
  },
  {
   "cell_type": "code",
   "execution_count": 108,
   "metadata": {},
   "outputs": [],
   "source": [
    "# Exercise 2: Coin Toss\n",
    "# You have a fair coin (equal probability of heads or tails) and a biased coin (75% heads, 25% tails).\n",
    "# You pick one coin at random and toss it, getting heads. What is the probability you picked the biased coin?"
   ]
  },
  {
   "cell_type": "code",
   "execution_count": 109,
   "metadata": {},
   "outputs": [],
   "source": [
    "# Exercise 3: Card Draw from a Deck\n",
    "# From a standard deck of cards (52 cards), you draw one card. \n",
    "# What is the probability that it is a heart, given that it is a red card?"
   ]
  },
  {
   "cell_type": "code",
   "execution_count": 110,
   "metadata": {},
   "outputs": [],
   "source": [
    "# Exercise 4: Rain and Traffic\n",
    "# It is known that there's a 40% chance of rain today. If it rains, the probability of traffic congestion is 70%.\n",
    "# If it does not rain, the probability of traffic congestion is 30%. \n",
    "# What is the probability that it will rain today given that there is traffic congestion?"
   ]
  },
  {
   "cell_type": "code",
   "execution_count": 111,
   "metadata": {},
   "outputs": [],
   "source": [
    "# Exercise 5: First Child Birth\n",
    "# In a hospital, data shows that 60% of deliveries are first-time births.\n",
    "# Of the first-time births, 30% are by cesarean section. \n",
    "# Of the non-first-time births, 20% are by cesarean section.\n",
    "# What is the probability that a randomly selected cesarean section birth is a first-time birth?"
   ]
  },
  {
   "cell_type": "markdown",
   "metadata": {},
   "source": [
    "### 4.1 Probability Rules"
   ]
  },
  {
   "cell_type": "markdown",
   "metadata": {},
   "source": [
    "Probability rules help us understand how different events relate to each other. We'll look at two key rules: one for non-independent events and another for independent events.\n",
    "\n",
    "#### Non-Independent Events\n",
    "\n",
    "When events A and B are not independent, the occurrence of one affects the probability of the other. The rule for such cases is:\n",
    "\n",
    "$$ P(A|B) = \\frac{P(A \\text{ and } B)}{P(B)} $$\n",
    "\n",
    "- This formula calculates the probability of event A occurring given that B has already occurred.\n",
    "- From this, we can derive: \n",
    "$$ P(A \\text{ and } B) = P(B|A) P(A) = P(A|B) P(B) $$\n",
    "\n",
    "##### Example of Non-Independent Events:\n",
    "\n",
    "- **Drawing Cards from a Deck Without Replacement**: \n",
    "    - Suppose you have a standard deck of 52 cards. You draw one card, and it's a heart. Without putting it back, you draw another card. The probability of the second card being a heart has changed because the first draw affects the second. Here, the events are not independent.\n",
    "\n",
    "#### Independent Events\n",
    "\n",
    "Events A and B are independent if the occurrence of one does not affect the probability of the other. The rule for independent events is:\n",
    "\n",
    "$$ P(A \\text{ and } B) = P(A) P(B) $$ \n",
    "\n",
    "- This formula indicates that the probability of both A and B occurring is the product of their individual probabilities.\n",
    "\n",
    "##### Example of Independent Events:\n",
    "\n",
    "- **Tossing Coins**: \n",
    "    - If you toss a fair coin twice, the result of the first toss doesn't affect the result of the second. These are independent trials. \n",
    "    - The probability of getting heads on the first toss is \\( \\frac{1}{2} \\), and the same for the second toss. So, the probability of getting heads on both tosses is \\( \\frac{1}{2} \\times \\frac{1}{2} = \\frac{1}{4} \\).\n",
    "\n",
    "#### Understanding Independence\n",
    "\n",
    "- A and B are **independent** if knowing that A occurred does not change the probability of B occurring, and vice versa.\n",
    "- In real-life scenarios, whether events are independent or not can significantly impact how probabilities are calculated and interpreted.\n",
    "\n",
    "These rules form the foundation of probability theory and are crucial for understanding more complex probabilistic phenomena.\n"
   ]
  },
  {
   "cell_type": "markdown",
   "metadata": {},
   "source": [
    "**Exercises on Conditional Probability:**\n",
    "\n",
    "1. **Three Children Scenario**:\n",
    "   - If you have three children, what is the probability that all of them are girls?\n",
    "\n",
    "2. **At Least One Girl in Three Children**:\n",
    "   - If you have three children and you know at least one of them is a girl, what is the probability that all three are girls?\n",
    "\n",
    "3. **Specific Birth Order**:\n",
    "   - If you have three children and you know the first child is a girl, what is the probability that the other two are also girls?\n",
    "\n",
    "4. **At Least One Boy in Four Children**:\n",
    "   - If you have four children and know that at least one of them is a boy, what is the probability that exactly two are boys?\n",
    "\n",
    "5. **Twins and a Third Child**:\n",
    "   - If you have three children, including a pair of twins, and you know that at least one of the twins is a girl, what is the probability that the third child is also a girl?\n",
    "\n",
    "6. **Birthdays and Gender**:\n",
    "   - If you have three children, and you know that at least one girl was born on a Tuesday, what is the probability that you have two or more girls?"
   ]
  },
  {
   "cell_type": "code",
   "execution_count": null,
   "metadata": {},
   "outputs": [],
   "source": [
    "## Your solutions"
   ]
  },
  {
   "cell_type": "markdown",
   "metadata": {},
   "source": [
    "#### More Probability Rules\n",
    "\n",
    "Understanding different types of events and how they interact is key in probability theory. Two important concepts are mutually exclusive events and the general rule for the probability of the union of two events.\n",
    "\n",
    "- #### Mutually Exclusive Events\n",
    "\n",
    "    - Two events are **mutually exclusive** if they cannot occur at the same time. In other words, the occurrence of one event excludes the possibility of the other event happening.\n",
    "\n",
    "    - **Mathematical Representation**:\n",
    "        $[ P(A | B) = P(B | A) = 0 ]$\n",
    "        - This means the probability of A happening given B has occurred (and vice versa) is zero.\n",
    "        - For example, when rolling a single die, the events 'rolling a 3' and 'rolling a 5' are mutually exclusive.\n",
    "\n",
    "    - **Probability of Either Event**:\n",
    "        $[ P(A \\text{ or } B) = P(A) + P(B) ]$\n",
    "        - For mutually exclusive events, the probability of either A or B occurring is the sum of their individual probabilities.\n",
    "        - For instance, in a deck of cards, the probability of drawing either a heart or a club is $( \\frac{1}{4} + \\frac{1}{4} = \\frac{1}{2} )$.\n",
    "\n",
    "- #### Non-Mutually Exclusive Events\n",
    "\n",
    "    When events A and B are not mutually exclusive, they can occur at the same time. In such cases, the rule to calculate the probability of either event happening is different.\n",
    "\n",
    "    - **General Rule for Union of Events**:\n",
    "    $[ P(A \\text{ or } B) = P(A) + P(B) - P(A \\text{ and } B) ]$\n",
    "        - This formula accounts for the intersection of A and B (i.e., the probability of both A and B occurring) to avoid double counting.\n",
    "        - For example, in a deck of cards, the probability of drawing a heart or a king is $( \\frac{1}{4} + \\frac{1}{13} - \\frac{1}{52} )$.\n",
    "\n",
    "- #### Understanding the Difference\n",
    "\n",
    "    - **Mutually Exclusive**: No overlap between events. The occurrence of one event excludes the other.\n",
    "    - **Non-Mutually Exclusive**: Potential overlap. The occurrence of one event does not exclude the possibility of the other.\n",
    "\n",
    "    Recognizing whether events are mutually exclusive or not is essential in correctly applying these probability rules and avoiding common mistakes in probabilistic reasoning."
   ]
  },
  {
   "cell_type": "markdown",
   "metadata": {},
   "source": [
    "**Exercises**: Counting is the most basic skill to solve probability problems.\n",
    "\n",
    "+ Q: For example, if I flip two coins, the chance of getting at least one tail is: 1/2 + 1/2-1/4=3/4?!\n",
    "+ Q: If I roll two dices and the total is 8, what is the probability that one of the dice is 6?\n",
    "+ Q: If I roll 100 dice, what is the probability of getting all sixes? \n",
    "+ Q: What is the probability of getting no sixes?\n",
    "+ Q: What is the probability of getting at least one six?\n"
   ]
  },
  {
   "cell_type": "code",
   "execution_count": null,
   "metadata": {},
   "outputs": [],
   "source": [
    "#Your solution here"
   ]
  },
  {
   "cell_type": "markdown",
   "metadata": {},
   "source": [
    "## 5. Probability Distributions"
   ]
  },
  {
   "cell_type": "markdown",
   "metadata": {},
   "source": [
    "### 5.1 Binomial Distribution"
   ]
  },
  {
   "cell_type": "markdown",
   "metadata": {},
   "source": [
    "\n",
    "\n",
    "The binomial distribution is a fundamental probability distribution in statistics, used to model the number of successful outcomes in a fixed number of trials in an experiment.\n",
    "\n",
    "![](https://d1whtlypfis84e.cloudfront.net/guides/wp-content/uploads/2018/09/03051417/11.jpg)\n",
    "\n",
    "#### Definition of Binomial Distribution\n",
    "\n",
    "A binomial distribution describes the probability of obtaining exactly $( k )$ successes in $( n )$ independent trials of a binary experiment. The experiment can result in just two possible outcomes, often termed as \"success\" and \"failure\".\n",
    "\n",
    "However, the Bernoulli distribution and the binomial distribution are intrinsically linked:\n",
    "\n",
    "1. **Bernoulli Distribution**: This is the simplest case of the binomial distribution, where a single trial is conducted. It has only two possible outcomes: success (with probability $( p )$) and failure (with probability $( 1-p )$). Essentially, a Bernoulli distribution is a binomial distribution with $( n=1 )$. [Bernoulli explained](https://www.youtube.com/watch?v=nl9WiZMZnYs&ab_channel=365DataScience)\n",
    "\n",
    "2. **Binomial Distribution**: This is a generalization of the Bernoulli distribution to $( n )$ independent trials. It represents the number of successes in $( n )$ independent Bernoulli trials, each with the same probability of success $( p )$. The key here is the independence of trials and the constant probability across each trial.[Binomial distribution](https://www.youtube.com/watch?v=_FbZI9mtSSM&ab_channel=365DataScience)\n",
    "\n",
    "So, the Bernoulli distribution is a special case of the binomial distribution. When you're dealing with more than one trial, and you're interested in the number of successes across those trials, you're working with a binomial distribution. But if you're just looking at one trial, it's a Bernoulli distribution. They are both foundational to understanding binary outcomes in probability theory.\n",
    "\n",
    "\n",
    "#### Probability Mass Function (PMF)\n",
    "\n",
    "The Probability Mass Function (PMF) of a binomial distribution, which gives the probability of obtaining \\( k \\) successes in \\( n \\) trials, is defined as:\n",
    "\n",
    "$$[ PMF(k) = {n \\choose k} p^k (1-p)^{(n-k)} ]$$\n",
    "\n",
    "where:\n",
    "\n",
    "- $( {n \\choose k} )$ is the binomial coefficient, representing the number of ways to choose $( k )$ successes out of $( n )$ trials. [Binomial coefficient explained](https://www.youtube.com/watch?v=WHztDZECzlM&t=155s&ab_channel=TheBrightSideofMathematics)\n",
    "- $( p )$ is the probability of success on an individual trial.\n",
    "- $( 1-p )$ is the probability of failure on an individual trial.\n",
    "- $( n )$ is the number of trials.\n",
    "- $( k )$ is the number of successes.\n",
    "\n",
    "#### Binomial Coefficient\n",
    "\n",
    "The binomial coefficient $( {n \\choose k} )$ is calculated using the formula:\n",
    "\n",
    "$[ {n \\choose k} = \\frac{n!}{k!(n-k)!} ]$\n",
    "\n",
    "where $( n! )$ (n factorial) is the product of all positive integers up to $( n )$.\n",
    "\n",
    "#### Characteristics of Binomial Distribution\n",
    "\n",
    "- **Discrete**: The binomial distribution is discrete, as it only deals with counts of successes and failures.\n",
    "- **Dependence on $( p )$ and $( n )$**: The shape of the binomial distribution depends on the values of $( p )$ and $( n )$. It can be symmetric or skewed depending on these parameters.\n",
    "- **Examples**: Tossing a coin a certain number of times and counting the number of heads, or conducting a survey and counting the number of positive responses.\n",
    "\n",
    "#### Application\n",
    "\n",
    "Binomial distributions are widely used in scenarios where the outcomes of each trial are binary, such as pass/fail, yes/no, or win/lose situations. They provide a powerful tool for understanding the variability and probabilities in such processes.\n",
    "\n",
    "Understanding the binomial distribution is key to many areas of statistics and forms the basis for the analysis of binary outcomes in various fields."
   ]
  },
  {
   "cell_type": "markdown",
   "metadata": {},
   "source": [
    "*Quality control*"
   ]
  },
  {
   "cell_type": "code",
   "execution_count": 113,
   "metadata": {},
   "outputs": [
    {
     "name": "stdout",
     "output_type": "stream",
     "text": [
      "Probability of finding exactly 5 defective items: 0.035346804727720935\n"
     ]
    }
   ],
   "source": [
    "from scipy.stats import binom\n",
    "\n",
    "# For a manufacturing process, there is always a chance of producing defective items.\n",
    "# Assume there is a 2% chance of an item being defective.\n",
    "# We want to find the probability of finding exactly 5 defective items in a batch of 100.\n",
    "\n",
    "n = 100  # Total number of items in a batch\n",
    "p = 0.02  # Defect rate (probability of an item being defective)\n",
    "\n",
    "k = 5  # Number of defective items we're calculating the probability for\n",
    "prob = binom.pmf(k, n, p)  # pmf is the probability mass function for binomial distribution\n",
    "print(f\"Probability of finding exactly {k} defective items: {prob}\")"
   ]
  },
  {
   "cell_type": "markdown",
   "metadata": {},
   "source": [
    "*Call centers*"
   ]
  },
  {
   "cell_type": "code",
   "execution_count": 119,
   "metadata": {},
   "outputs": [
    {
     "name": "stdout",
     "output_type": "stream",
     "text": [
      "Probability of exactly 10 callers hanging up: 0.1319\n"
     ]
    }
   ],
   "source": [
    "# In a call center, not all callers are willing to wait to be connected to an operator.\n",
    "# Suppose there's a 10% chance of a caller hanging up before connection.\n",
    "# We want to calculate the probability of exactly 10 callers hanging up out of the next 100 calls.\n",
    "\n",
    "n = 100  # Number of callers\n",
    "p = 0.1 # Probability of a caller hanging up\n",
    "\n",
    "k = 10\n",
    "# Desired number of hang-ups to calculate probability for\n",
    "prob = binom.pmf(k, n, p)  # Using the binomial probability mass function\n",
    "print(f\"Probability of exactly {k} callers hanging up: {prob:.4f}\")"
   ]
  },
  {
   "cell_type": "markdown",
   "metadata": {},
   "source": [
    "*Finance and investing*"
   ]
  },
  {
   "cell_type": "code",
   "execution_count": 120,
   "metadata": {},
   "outputs": [
    {
     "name": "stdout",
     "output_type": "stream",
     "text": [
      "Probability of stock going up exactly 20 times: 0.0656\n"
     ]
    }
   ],
   "source": [
    "# The stock market is unpredictable, but sometimes investors use historical data to make predictions.\n",
    "# If a stock has a 55% chance of increasing in value on any given day,\n",
    "# an investor might want to know the probability of the stock increasing 20 out of 30 days.\n",
    "\n",
    "n = 30  # Number of days\n",
    "p = 0.55  # Probability of stock increasing in value in a single day\n",
    "\n",
    "k = 20  # Number of days the investor is hoping the stock will increase\n",
    "prob = binom.pmf(k, n, p)  # Calculate the probability with binomial distribution\n",
    "print(f\"Probability of stock going up exactly {k} times: {prob:.4f}\")"
   ]
  },
  {
   "cell_type": "markdown",
   "metadata": {},
   "source": [
    "*Marketing Campaigns*"
   ]
  },
  {
   "cell_type": "code",
   "execution_count": null,
   "metadata": {},
   "outputs": [],
   "source": [
    "# Marketing teams often send out advertisements and want to predict the response rate.\n",
    "# If sending out 10,000 flyers with an expected 1% response rate,\n",
    "# the binomial distribution can predict the probability of receiving a certain number of responses.\n",
    "\n",
    "n = 10000  # Number of flyers sent\n",
    "p = 0.01  # Expected response rate\n",
    "\n",
    "k = 150  # Number of responses we want to find the probability for\n",
    "prob = binom.pmf(k, n, p)  # Probability of receiving exactly k responses\n",
    "print(f\"Probability of receiving exactly {k} responses: {prob:.4f}\")"
   ]
  },
  {
   "cell_type": "markdown",
   "metadata": {},
   "source": [
    "*Loan defaults*"
   ]
  },
  {
   "cell_type": "code",
   "execution_count": null,
   "metadata": {},
   "outputs": [],
   "source": [
    "# Banks and financial institutions often assess the risk of loan portfolios.\n",
    "# If there's a 5% chance of default on an individual loan, they might calculate the probability\n",
    "# of a certain number of defaults in a portfolio of 1000 loans.\n",
    "\n",
    "n = 1000  # Total number of loans\n",
    "p = 0.05  # Probability of default on an individual loan\n",
    "\n",
    "k = 50  # Number of defaults to calculate probability for\n",
    "prob = binom.pmf(k, n, p)  # Calculating the probability using binomial distribution\n",
    "print(f\"Probability of exactly {k} loans defaulting: {prob:.4f}\")"
   ]
  },
  {
   "cell_type": "markdown",
   "metadata": {},
   "source": [
    "### 5.2 Business challenge\n",
    "\n",
    "#### Extended Business Challenge: Customer Satisfaction Survey Analysis\n",
    "\n",
    "##### Scenario\n",
    "As the restaurant manager, you're planning a customer satisfaction survey over the next month. From past experience, you estimate that on average, 60% of customers provide positive feedback. You'll conduct this survey with 30 customers daily.\n",
    "\n",
    "##### Complex Task\n",
    "Your task is to use the binomial distribution to analyze the probability of various outcomes from the survey. This analysis will assist in setting realistic customer satisfaction goals and developing improvement strategies.\n",
    "\n",
    "##### Challenge Details\n",
    "\n",
    "1. **Estimate Probabilities**:\n",
    "    - **Scenario 1**: Calculate the probability of receiving positive feedback from exactly 20 customers in a day.\n",
    "    - **Scenario 2**: Find the probability of more than 25 customers giving positive feedback in a day.\n",
    "    - **Scenario 3**: Determine the probability of getting positive feedback from at least 15 but less than 25 customers in a day.\n",
    "\n",
    "2. **Weekend vs. Weekday Analysis**:\n",
    "    - On weekends, the probability of positive feedback increases to 70%. Recalculate the probabilities for the above scenarios for weekends.\n",
    "    - Discuss the differences in probabilities between weekdays and weekends and potential reasons for these variations.\n",
    "\n",
    "3. **Data Exploration**:\n",
    "    - Utilize the 'tips' dataset to explore correlations between tipping behavior and customer satisfaction. Investigate trends based on day of the week, time of day, etc.\n",
    "\n",
    "##### Python Code Framework\n",
    "\n",
    "The challenge includes a Python code framework for calculating probabilities using the binomial distribution. Students are encouraged to explore the 'tips' dataset for additional insights related to the challenge.\n",
    "\n",
    "This exercise is designed to enhance understanding of the binomial distribution in a practical business context and should take approximately 30 minutes to complete."
   ]
  },
  {
   "cell_type": "code",
   "execution_count": null,
   "metadata": {},
   "outputs": [],
   "source": [
    "# your code here"
   ]
  },
  {
   "cell_type": "markdown",
   "metadata": {},
   "source": [
    "## 5A. (extra): Monte Carlo Experiments\n"
   ]
  },
  {
   "cell_type": "markdown",
   "metadata": {},
   "source": [
    "Monte Carlo experiments are a critical tool in computational statistics and mathematical analysis. They are used to model the probability of different outcomes in a process that cannot easily be predicted due to the intervention of random variables. [Monte Carlo](https://www.youtube.com/watch?v=hhBNk0xmZ9U&ab_channel=365FinancialAnalystTutorials)\n",
    "\n",
    "### What are Monte Carlo Experiments?\n",
    "\n",
    "Monte Carlo experiments are a broad class of computational algorithms that rely on **repeated random sampling to obtain numerical results**. The fundamental principle of these experiments is to use randomness to solve problems that might be deterministic in principle. They are especially useful for simulating systems with many coupled degrees of freedom and for calculating integrals in high dimensions.\n",
    "\n",
    "### Key Features\n",
    "- **Random Sampling**: At the heart of Monte Carlo methods is the generation of multiple, random samples.\n",
    "- **Repetition**: Running simulations multiple times to obtain a distribution of an unknown probabilistic entity.\n",
    "- **Estimation**: They are often used for estimating unknown parameters or distributions in statistical problems.\n",
    "\n",
    "### Theoretical Basis\n",
    "\n",
    "Monte Carlo methods are extensively used in fields like physical sciences, engineering, business, finance, and artificial intelligence. They are particularly valuable in situations where analytical solutions are impractical or impossible to find. The theory behind Monte Carlo experiments is grounded in statistical physics and probability theory.\n",
    "\n",
    "### Trivial Case: Rolling a Die\n",
    "\n",
    "**Example**: What are the chances of getting a six in one trial of rolling a fair die?\n",
    "\n",
    "In theory, a fair die has six faces, each equally likely to land face up. Therefore, the probability of getting a six (or any other specific number) in a single roll is 1/6 or approximately 16.67%.\n",
    "\n",
    "###### Monte Carlo Approach\n",
    "- **Simulation**: You can simulate rolling a die many times (e.g., 10,000 times) and count how often a six appears.\n",
    "- **Estimation**: By dividing the number of times a six is rolled by the total number of rolls, you get an estimate of the probability of rolling a six.\n",
    "- **Convergence**: As the number of trials increases, this estimated probability will converge to the theoretical probability (1/6).\n",
    "\n",
    "This trivial case illustrates how Monte Carlo methods can approximate the probabilities of certain outcomes through repeated, random sampling. As the complexity of the problem increases, Monte Carlo methods become an indispensable tool for probabilistic analysis and decision-making.\n"
   ]
  },
  {
   "cell_type": "markdown",
   "metadata": {},
   "source": [
    "*Portfolio Risk Analysis*: In finance, Monte Carlo simulations are used to model the probability of different outcomes in a financial portfolio."
   ]
  },
  {
   "cell_type": "code",
   "execution_count": null,
   "metadata": {},
   "outputs": [],
   "source": [
    "import numpy as np\n",
    "\n",
    "# Parameters for the simulation\n",
    "years = 30\n",
    "mean_return = 0.07  # Average annual return\n",
    "std_dev_return = 0.15  # Standard deviation of the return\n",
    "initial_investment = 100000  # Initial investment amount\n",
    "\n",
    "# Perform Monte Carlo simulation\n",
    "final_portfolio_values = []\n",
    "for _ in range(10000):\n",
    "    # Generate random yearly returns based on mean and standard deviation\n",
    "    yearly_returns = np.random.normal(mean_return, std_dev_return, years)\n",
    "    # Calculate the final portfolio value\n",
    "    end_value = initial_investment * np.prod(1 + yearly_returns)\n",
    "    final_portfolio_values.append(end_value)\n",
    "\n",
    "# Analyze the results\n",
    "median_portfolio = np.median(final_portfolio_values)\n",
    "print(f\"Median final portfolio value after {years} years: ${median_portfolio:.2f}\")\n"
   ]
  },
  {
   "cell_type": "markdown",
   "metadata": {},
   "source": [
    "*Sales Forecasting*: This Monte Carlo simulation can be used to forecast sales for a product. It takes into account the uncertainty in factors like market demand and unit price."
   ]
  },
  {
   "cell_type": "code",
   "execution_count": null,
   "metadata": {},
   "outputs": [],
   "source": [
    "import numpy as np\n",
    "\n",
    "# Parameters\n",
    "num_simulations = 10000\n",
    "avg_demand = 10000  # average demand units\n",
    "std_dev_demand = 2000  # standard deviation of demand\n",
    "avg_price = 50  # average price per unit\n",
    "std_dev_price = 5  # standard deviation of price\n",
    "\n",
    "# Monte Carlo Simulation\n",
    "sales_forecasts = []\n",
    "for _ in range(num_simulations):\n",
    "    simulated_demand = np.random.normal(avg_demand, std_dev_demand)\n",
    "    simulated_price = np.random.normal(avg_price, std_dev_price)\n",
    "    total_sales = simulated_demand * simulated_price\n",
    "    sales_forecasts.append(total_sales)\n",
    "\n",
    "# Analysis of Results\n",
    "average_sales = np.mean(sales_forecasts)\n",
    "print(f\"Average Forecasted Sales: ${average_sales:.2f}\")"
   ]
  },
  {
   "cell_type": "markdown",
   "metadata": {},
   "source": [
    "*Project Completion Time*: Use Monte Carlo simulations to estimate the completion time of a project, considering the uncertainty in the duration of each task."
   ]
  },
  {
   "cell_type": "code",
   "execution_count": null,
   "metadata": {},
   "outputs": [],
   "source": [
    "# Assumptions: a project with three main tasks, each with an estimated duration\n",
    "# and standard deviation.\n",
    "\n",
    "num_simulations = 5000\n",
    "task1_mean = 10  # days\n",
    "task1_std = 2  # days\n",
    "task2_mean = 15  # days\n",
    "task2_std = 3  # days\n",
    "task3_mean = 20  # days\n",
    "task3_std = 4  # days\n",
    "\n",
    "project_durations = []\n",
    "for _ in range(num_simulations):\n",
    "    task1_time = np.random.normal(task1_mean, task1_std)\n",
    "    task2_time = np.random.normal(task2_mean, task2_std)\n",
    "    task3_time = np.random.normal(task3_mean, task3_std)\n",
    "    total_time = task1_time + task2_time + task3_time\n",
    "    project_durations.append(total_time)\n",
    "\n",
    "average_project_time = np.mean(project_durations)\n",
    "print(f\"Average Project Completion Time: {average_project_time:.2f} days\")"
   ]
  },
  {
   "cell_type": "code",
   "execution_count": null,
   "metadata": {},
   "outputs": [],
   "source": [
    "np.random.normal(task1_mean, task1_std)"
   ]
  },
  {
   "cell_type": "code",
   "execution_count": null,
   "metadata": {},
   "outputs": [],
   "source": []
  },
  {
   "cell_type": "markdown",
   "metadata": {},
   "source": [
    "### Monte Carlo Business Challenge: Marketing Campaign Analysis\n",
    "\n",
    "### Overview\n",
    "In this exercise, you will apply the binomial distribution and Monte Carlo simulation to analyze a marketing campaign's effectiveness. This real-world business scenario will help you understand the practical applications of these statistical tools in decision-making processes.\n",
    "\n",
    "### Scenario\n",
    "You are a data analyst at a company planning to launch a new online marketing campaign. From past campaigns, you know that the likelihood of a customer clicking on an ad (click-through rate, CTR) is around 2%. The marketing team plans to send out 1,000 ads each day for a week.\n",
    "\n",
    "### Objective\n",
    "Your task is to use Monte Carlo simulations to predict the outcome of the campaign and provide insights into its potential effectiveness.\n",
    "\n",
    "##### Tasks\n",
    "\n",
    "1. **CTR Analysis**:\n",
    "    - Using the binomial distribution, simulate the campaign for 7 days to estimate the number of clicks each day.\n",
    "    - Assume each ad has an independent 2% chance of being clicked.\n",
    "\n",
    "2. **Monte Carlo Simulation**:\n",
    "    - Conduct 10,000 simulations of the 7-day campaign.\n",
    "    - For each simulation, record the total number of clicks over the week.\n",
    "\n",
    "3. **Data Analysis**:\n",
    "    - Analyze the distribution of total clicks over the week from your simulations.\n",
    "    - Calculate the mean, median, and standard deviation of the total clicks.\n",
    "    - Determine the probability of getting more than 150 clicks in a week.\n",
    "\n",
    "4. **Report Findings**:\n",
    "    - Based on your analysis, provide recommendations to the marketing team.\n",
    "    - Discuss the reliability of your predictions and how they might impact the campaign strategy."
   ]
  },
  {
   "cell_type": "code",
   "execution_count": null,
   "metadata": {},
   "outputs": [],
   "source": [
    "# your code here"
   ]
  },
  {
   "cell_type": "markdown",
   "metadata": {},
   "source": [
    "## 6. Continuous Distributions"
   ]
  },
  {
   "cell_type": "markdown",
   "metadata": {},
   "source": [
    "### 6.0 Intro"
   ]
  },
  {
   "cell_type": "markdown",
   "metadata": {},
   "source": [
    "Continuous Distributions\n",
    "\n",
    "So far in our studies, we have focused on **empirical distributions**, which are derived from the distributions of values in a sample. These distributions are directly based on observations and data points we have collected. However, many real-world problems can be more effectively approached by fitting **continuous cumulative distribution functions (CDFs)**.\n",
    "[Types of distribution](https://www.youtube.com/watch?v=b9a27XN_6tg&ab_channel=365DataScience)\n",
    "\n",
    "#### What are Continuous Distributions?\n",
    "\n",
    "Continuous distributions differ from empirical distributions in a few key ways:\n",
    "\n",
    "- **Analytical Nature**: Unlike empirical distributions that are based on observed data, continuous distributions are described by an analytical function. This function provides a mathematical model to estimate the probability of different outcomes.\n",
    "\n",
    "- **Continuity**: As the name suggests, continuous distributions are continuous over an interval. This means they can take on any value within a certain range, unlike discrete distributions which are limited to specific, separated values.\n",
    "\n",
    "#### Continuous Cumulative Distribution Functions (CDFs)\n",
    "\n",
    "- **Definition**: A CDF is a function that maps from a value to its percentile rank. The CDF of a value, x, in a distribution is the fraction of the data that is less than or equal to x.\n",
    "\n",
    "- **Properties**:\n",
    "    - The CDF is a non-decreasing function.\n",
    "    - It ranges from 0 to 1, where 0 represents no data below a threshold and 1 represents all data below a threshold.\n",
    "\n",
    "#### Importance in Real-World Problems\n",
    "\n",
    "- **Better Approximations**: For many real-world phenomena, continuous distributions provide a better approximation than empirical distributions. For example, in physics, economics, and engineering, continuous models can effectively represent complex systems.\n",
    "\n",
    "- **Analytical Convenience**: Continuous distributions offer mathematical convenience, allowing for the use of calculus and other analytical techniques. This is particularly useful in statistical inference, hypothesis testing, and modeling.\n",
    "\n",
    "- **Flexibility**: They can model a wide range of processes, from stock market fluctuations to environmental data like temperature and rainfall.\n",
    "\n",
    "In summary, while empirical distributions are grounded in actual data, continuous distributions offer a more flexible and analytical approach to understanding the probability and behavior of variables in many fields.\n"
   ]
  },
  {
   "cell_type": "markdown",
   "metadata": {},
   "source": [
    "#### Understanding the Poisson Distribution\n",
    "\n",
    "Before exploring the exponential distribution, it is crucial to understand the Poisson distribution, as these two are closely related, particularly in the context of stochastic (random) processes. [Poisson distribution](https://www.youtube.com/watch?v=BbLfV0wOeyc&ab_channel=365DataScience)\n",
    "\n",
    "#### What is the Poisson Distribution?\n",
    "\n",
    "The Poisson distribution is a discrete probability distribution that expresses the probability of a given number of events occurring in a fixed interval of time or space, assuming these events occur with a known constant mean rate and independently of the time since the last event. \n",
    "\n",
    "#### Key Characteristics\n",
    "\n",
    "- **Discrete Events**: The Poisson distribution is used for countable events, like the number of emails received in an hour or the number of customers arriving at a store in a day.\n",
    "- **Independence**: Each event is independent of the other events.\n",
    "- **Constant Mean Rate**: Events occur at a constant rate, denoted as λ (lambda).\n",
    "- **Interval**: The fixed interval can be time, area, volume, etc.\n",
    "\n",
    "#### Applications\n",
    "\n",
    "- **Customer Arrivals**: Modeling customer arrivals at a store or service center.\n",
    "- **Service Requests**: Number of service requests, such as taxi calls or emergency services, within a given time.\n",
    "- **Natural Phenomena**: Occurrences of certain types of natural phenomena within a specific period.\n",
    "\n",
    "#### Relation to Exponential Distribution\n",
    "\n",
    "While the Poisson distribution is concerned with the number of events in a fixed interval, the exponential distribution is used to model the time between these events. This connection is particularly evident in processes described by a Poisson point process, where the inter-arrival times of events follow an exponential distribution.\n",
    "\n",
    "Understanding the Poisson distribution provides a foundation for appreciating the exponential distribution's significance in modeling the time between events."
   ]
  },
  {
   "cell_type": "code",
   "execution_count": 122,
   "metadata": {},
   "outputs": [
    {
     "name": "stdout",
     "output_type": "stream",
     "text": [
      "Probability of exactly 0 customers: 0.0000\n",
      "Probability of exactly 5 customers: 0.0378\n",
      "Probability of exactly 10 customers: 0.1251\n",
      "Probability of exactly 15 customers: 0.0347\n"
     ]
    },
    {
     "data": {
      "image/png": "[encoded data removed]",
      "text/plain": [
       "<Figure size 640x480 with 1 Axes>"
      ]
     },
     "metadata": {},
     "output_type": "display_data"
    }
   ],
   "source": [
    "import numpy as np\n",
    "from scipy.stats import poisson\n",
    "import matplotlib.pyplot as plt\n",
    "\n",
    "# Scenario: Managing a bank branch\n",
    "# Average customer arrivals per hour is 10 (lambda = 10)\n",
    "lambda_rate = 10\n",
    "\n",
    "# Calculate probabilities for different numbers of customer arrivals\n",
    "# For instance, what's the probability of exactly 0, 5, 10, 15 customers arriving in an hour?\n",
    "prob_0 = poisson.pmf(0, lambda_rate)\n",
    "prob_5 = poisson.pmf(5, lambda_rate)\n",
    "prob_10 = poisson.pmf(10, lambda_rate)\n",
    "prob_15 = poisson.pmf(15, lambda_rate)\n",
    "\n",
    "print(f\"Probability of exactly 0 customers: {prob_0:.4f}\")\n",
    "print(f\"Probability of exactly 5 customers: {prob_5:.4f}\")\n",
    "print(f\"Probability of exactly 10 customers: {prob_10:.4f}\")\n",
    "print(f\"Probability of exactly 15 customers: {prob_15:.4f}\")\n",
    "\n",
    "# Visualizing the distribution of customer arrivals\n",
    "# Generate a range of possible customer arrival numbers\n",
    "k_values = np.arange(0, 20)\n",
    "# Calculate probability for each number of arrivals\n",
    "pmf_values = poisson.pmf(k_values, lambda_rate)\n",
    "\n",
    "# Create a bar plot\n",
    "plt.bar(k_values, pmf_values)\n",
    "plt.title(\"Poisson Distribution - Customer Arrivals at a Bank\")\n",
    "plt.xlabel(\"Number of Customers\")\n",
    "plt.ylabel(\"Probability\")\n",
    "plt.show()"
   ]
  },
  {
   "cell_type": "markdown",
   "metadata": {},
   "source": [
    "### 6.1.1 The Exponential Distribution"
   ]
  },
  {
   "cell_type": "markdown",
   "metadata": {},
   "source": [
    "\n",
    "\n",
    "The exponential distribution is a continuous probability distribution commonly used to model the time between events in a Poisson point process. It is a particular case of the gamma distribution and is intrinsically related to the Poisson distribution.\n",
    "\n",
    "#### Cumulative Distribution Function (CDF)\n",
    "\n",
    "The CDF of the exponential distribution is defined as:\n",
    "\n",
    "$$ CDF(x) = 1 -  \\exp^{- \\lambda x} $$ \n",
    "\n",
    "- Here, $( x )$ is the variable (time, distance, etc.), and $( \\lambda )$ is the rate parameter.\n",
    "- The CDF represents the probability that a real-valued random variable X with an exponential distribution is less than or equal to $( x )$.\n",
    "\n",
    "#### Probability Density Function (PDF)\n",
    "\n",
    "The PDF of the exponential distribution is given by:\n",
    "\n",
    "$$ PDF(x) = \\lambda \\exp^{- \\lambda x} $$\n",
    "\n",
    "- This function describes the probability of the variable taking a particular value.\n",
    "\n",
    "#### Characteristics of the Exponential Distribution\n",
    "\n",
    "- **Rate Parameter ($( \\lambda )$)**: Determines the shape of the distribution. It is the inverse of the mean (or the average rate at which events occur).\n",
    "- **Mean and Variance**:\n",
    "    - The mean of the distribution is $( \\frac{1}{\\lambda} )$.\n",
    "    - The variance is $( \\frac{1}{\\lambda^2} )$.\n",
    "- **Median**: The median of the exponential distribution is $( \\frac{\\ln(2)}{\\lambda} )$.\n",
    "\n",
    "#### Real-World Applications\n",
    "\n",
    "- **Interarrival Times**: Exponential distributions are frequently used to model interarrival times in systems where events occur continuously and independently at a constant average rate. For example, the time between arrivals of customers at a service center or the time between failures of a mechanical system.\n",
    "\n",
    "- **Memoryless Property**: One key property of the exponential distribution is its memorylessness. It means that the probability of an event occurring in the next instant is independent of how much time has already elapsed.\n",
    "\n",
    "#### Example: Birth Times in a Hospital\n",
    "\n",
    "An illustrative example is the modeling of interarrival times of births in a hospital. For instance, if 44 births are registered in 24 hours, the rate $( \\lambda )$ can be estimated as 0.0306 births per minute. The mean interarrival time, therefore, would be approximately 32.7 minutes, following an exponential distribution.\n",
    "\n",
    "This example showcases how the exponential distribution can model the time between consecutive events, like births in a hospital, using real-world data.\n"
   ]
  },
  {
   "cell_type": "markdown",
   "metadata": {},
   "source": [
    "#### Business Example: Customer Service Call Interarrival Times\n",
    "\n",
    "In customer service operations, understanding the pattern of incoming calls is crucial for efficient resource allocation and ensuring high-quality customer support. One way to analyze call patterns is by studying the interarrival times of calls, which can often be modeled using an exponential distribution.\n",
    "\n",
    "##### Scenario: Call Center Operations\n",
    "\n",
    "In a typical customer service center, calls from customers come in at random intervals. These intervals, known as interarrival times, are often best modeled by an exponential distribution, particularly when calls are independent events and tend to occur at a constant average rate.\n",
    "\n",
    "##### Objective\n",
    "\n",
    "The goal is to simulate and analyze the interarrival times of customer service calls using an exponential distribution. This analysis will provide insights into the average waiting time between calls, which is a key metric for managing staffing levels and optimizing customer service response times.\n",
    "\n",
    "##### Tasks\n",
    "\n",
    "1. **Simulate Interarrival Times**: Generate a series of interarrival times based on a predefined average call rate using the exponential distribution.\n",
    "2. **Data Visualization**: Create a histogram to visualize the distribution of interarrival times.\n",
    "3. **Statistical Analysis**: Calculate and interpret the mean interarrival time to aid in decision-making for call center management.\n",
    "\n",
    "This exercise will demonstrate how to apply the exponential distribution in a real-world business context, providing valuable data-driven insights for operational planning and strategy.\n"
   ]
  },
  {
   "cell_type": "code",
   "execution_count": 123,
   "metadata": {},
   "outputs": [
    {
     "data": {
      "image/png": "[encoded data removed]",
      "text/plain": [
       "<Figure size 640x480 with 1 Axes>"
      ]
     },
     "metadata": {},
     "output_type": "display_data"
    },
    {
     "name": "stdout",
     "output_type": "stream",
     "text": [
      "Mean Interarrival Time: 1.99 minutes\n"
     ]
    }
   ],
   "source": [
    "import numpy as np\n",
    "import matplotlib.pyplot as plt\n",
    "\n",
    "# Parameters\n",
    "lambda_rate = 0.5  # Average rate of calls per minute (0.5 calls/minute)\n",
    "num_calls = 1000   # Total number of calls to simulate\n",
    "\n",
    "# Generate interarrival times using exponential distribution\n",
    "interarrival_times = np.random.exponential(1/lambda_rate, num_calls)\n",
    "\n",
    "# Visualizing the interarrival times\n",
    "plt.hist(interarrival_times, bins=30, density=True)\n",
    "plt.title(\"Histogram of Interarrival Times of Customer Service Calls\")\n",
    "plt.xlabel(\"Time (minutes)\")\n",
    "plt.ylabel(\"Frequency\")\n",
    "plt.show()\n",
    "\n",
    "# Calculating the mean interarrival time\n",
    "mean_interarrival = np.mean(interarrival_times)\n",
    "print(f\"Mean Interarrival Time: {mean_interarrival:.2f} minutes\")"
   ]
  },
  {
   "cell_type": "markdown",
   "metadata": {},
   "source": [
    "#### Occurrence of Events\n",
    "\n",
    "The exponential distribution occurs naturally when describing the lengths of the inter-arrival times in a homogeneous Poisson process.\n",
    "\n",
    "In real-world scenarios, the assumption of a constant rate (or probability per unit time) is rarely satisfied. For example, the rate of incoming phone calls differs according to the time of day. But if we focus on a time interval during which the rate is roughly constant, such as from 2 to 4 p.m. during work days, the exponential distribution can be used as a good approximate model for the time until the next phone call arrives. Similar caveats apply to the following examples which yield approximately exponentially distributed variables:\n",
    "\n",
    "- The time until a radioactive particle decays, or the time between clicks of a Geiger counter.\n",
    "- The time it takes before your next telephone call\n",
    "- The time until default (on payment to company debt holders) in reduced form credit risk modeling\n",
    "\n",
    "The random variable $X$ of the lifelengths of some batteries is associated with a probability density function of the form:\n",
    "\n",
    "$$ PDF(x) = \\frac{1}{4} \\exp^{- \\frac{x}{4}}$$ "
   ]
  },
  {
   "cell_type": "code",
   "execution_count": 124,
   "metadata": {},
   "outputs": [
    {
     "data": {
      "image/png": "[encoded data removed]",
      "text/plain": [
       "<Figure size 640x480 with 1 Axes>"
      ]
     },
     "metadata": {},
     "output_type": "display_data"
    }
   ],
   "source": [
    "l = 0.25\n",
    "x=np.arange(0,25,0.1)\n",
    "y= l * np.exp(-l*x)\n",
    "plt.plot(x,y,'-')\n",
    "plt.title('Exponential: $\\lambda$ =%.2f' % l ,fontsize=15)\n",
    "plt.xlabel('x',fontsize=15)\n",
    "plt.ylabel('PDF',fontsize=15)\n",
    "plt.show()"
   ]
  },
  {
   "cell_type": "markdown",
   "metadata": {},
   "source": [
    "#### Example 1\n",
    "\n",
    "The number of days ahead travelers purchase their airline tickets can be modeled by an exponential distribution with the average amount of time equal to 15 days. \n",
    "\n",
    "- (a) Find the probability that a traveler will purchase a ticket fewer than 10 days in advance. \n",
    "\n",
    "\n",
    "Answer: \n",
    "\n",
    "Remember: The parameter  𝜆  determines the shape of the distribution, the mean of the distribution is  1/𝜆. The median is  𝑙𝑛(2)/𝜆.\n",
    "\n",
    "First we need to calculate the rate parameter: 𝜆=1/15=0.066667. Then we can calculate 𝑃(𝑋<10)=1−𝑒(−𝜆*10)=0.4865.\n",
    "\n",
    "- (b) How many days do half of all travelers wait?\n",
    "\n",
    "Answer:  \n",
    "We know that the Median of the exponential distribution is 𝑀𝑒𝑑𝑖𝑎𝑛=(ln2)/𝜆=10.397"
   ]
  },
  {
   "cell_type": "markdown",
   "metadata": {},
   "source": [
    "#### Example 2\n",
    "\n",
    "On the average, a certain device lasts 10 years. Assume that the length of time is exponentially distributed.\n",
    "\n",
    "- a) What is the probability that the device lasts more than 7 years?\n",
    "\n",
    "Answer: For the beginning 𝜆=1/10=0.1\n",
    " 𝑃(𝑋>7)=1−𝑃(𝑋≤7)=1–(1−𝑒−𝜆𝑥)=𝑒−𝜆𝑥=𝑒−(0.1)(7)=0.4966\n",
    "\n",
    "- b) On the average, how long would five devices last if they are used one after another?\n",
    "\n",
    "Answer: On the average, 1 device lasts ten years. Therefore, 5 devices, if they are used one right after the other would last, on the average, (5)(10) = 50 years.\n",
    "\n",
    "- c) What is the probability that a device lasts between 9 and 11 years?\n",
    "\n",
    "Answer: 𝑃(9<𝑋<11)=𝑃(𝑋<11)−𝑃(𝑋<9)=(1−𝑒−(0.1)(11))–(1−𝑒−(0.1)(9))=0.0737"
   ]
  },
  {
   "cell_type": "markdown",
   "metadata": {},
   "source": [
    "### 6.1.2 The normal distribution"
   ]
  },
  {
   "cell_type": "markdown",
   "metadata": {},
   "source": [
    "The normal distribution, also known as the Gaussian distribution, is one of the most important and widely used probability distributions in statistics. It is favored for its simplicity and its ability to describe a wide range of natural phenomena. The normal distribution is characterized by two parameters: the mean (μ) and the standard deviation (σ). [normal distribution](https://www.youtube.com/watch?v=IhtmW28slDw&ab_channel=365DataScience)\n",
    "\n",
    "- **Symmetry**: The normal distribution is symmetric around its mean (μ), which means that the probability density function (PDF) is highest at the mean and decreases symmetrically in both directions. This symmetry makes it a convenient choice for modeling many real-world phenomena.\n",
    "\n",
    "- **Bell-shaped Curve**: The probability density function (PDF) of the normal distribution has a bell-shaped curve. As you move away from the mean in either direction, the probability of observing values decreases gradually, following a smooth and continuous curve.\n",
    "\n",
    "- **Central Limit Theorem**: One of the most important properties of the normal distribution is the Central Limit Theorem. It states that the sum (or average) of a large number of independent, identically distributed random variables approaches a normal distribution, regardless of the original distribution of those variables. This property makes the normal distribution highly relevant in statistical inference and hypothesis testing.\n",
    "\n",
    "- **Parameters**:\n",
    "   - **Mean (μ)**: The mean represents the center of the distribution and determines its location on the horizontal axis.\n",
    "   - **Standard Deviation (σ)**: The standard deviation controls the spread or dispersion of the distribution. A larger σ results in a wider distribution, while a smaller σ leads to a narrower one.\n",
    "\n",
    "- **Probability Density Function (PDF)**: The probability density function of the normal distribution is given by the formula:\n",
    "\n",
    "   $$ PDF(x) = \\frac{1}{\\sqrt{2 \\pi \\sigma^2}} \\exp \\left(-\\frac{(x-\\mu)^2}{2 \\sigma^2} \\right)$$\n",
    "\n",
    "This distribution is widely used in various fields of science, engineering, and social sciences due to its simplicity and applicability to a wide range of real-world data.\n",
    "\n",
    "![](https://www.nlm.nih.gov/oet/ed/stats/img/Distribution_14.png)"
   ]
  },
  {
   "cell_type": "markdown",
   "metadata": {},
   "source": [
    "#### Example: Analyzing Employee Salaries Using the Normal Distribution in Python\n",
    "\n",
    "In the world of business and human resources, understanding and managing employee salaries are essential tasks. The normal distribution, also known as the Gaussian distribution, provides a powerful statistical tool to model and analyze salary distributions within organizations. In this example, we will explore how to use Python to simulate and visualize employee salaries following a normal distribution.\n",
    "\n",
    "The normal distribution is characterized by two key parameters: the mean (μ), which represents the average salary, and the standard deviation (σ), which measures the spread or variability in salaries. By modeling employee salaries as a normal distribution, businesses can make informed decisions related to salary ranges, performance evaluations, and financial planning.\n",
    "\n",
    "In this demonstration, we will:\n",
    "\n",
    "- Define the mean and standard deviation for employee salaries.\n",
    "- Generate synthetic data representing employee salaries following a normal distribution.\n",
    "- Visualize the salary distribution using a histogram.\n",
    "- Overlay the probability density function (PDF) of the normal distribution on the histogram.\n",
    "- Discuss how this information can be used for HR and financial decision-making within organizations.\n",
    "\n",
    "Let's dive into Python to explore these concepts and gain insights into employee salary distributions."
   ]
  },
  {
   "cell_type": "code",
   "execution_count": 125,
   "metadata": {},
   "outputs": [
    {
     "data": {
      "image/png": "[encoded data removed]",
      "text/plain": [
       "<Figure size 800x600 with 1 Axes>"
      ]
     },
     "metadata": {},
     "output_type": "display_data"
    }
   ],
   "source": [
    "# Import necessary libraries\n",
    "import numpy as np\n",
    "import matplotlib.pyplot as plt\n",
    "from scipy.stats import norm\n",
    "\n",
    "# Define the mean and standard deviation for employee salaries\n",
    "mean_salary = 60000  # Mean salary in USD\n",
    "std_deviation = 10000  # Standard deviation in USD\n",
    "\n",
    "# Generate synthetic data following a normal distribution\n",
    "num_employees = 1000  # Number of employees\n",
    "employee_salaries = np.random.normal(mean_salary, std_deviation, num_employees)\n",
    "\n",
    "# Plot a histogram of employee salaries\n",
    "plt.figure(figsize=(8, 6))\n",
    "plt.hist(employee_salaries, bins=30, density=True, alpha=0.6, color='b', label='Employee Salaries')\n",
    "\n",
    "# Generate a range of x values for the probability density function (PDF)\n",
    "x_values = np.linspace(min(employee_salaries), max(employee_salaries), 1000)\n",
    "\n",
    "# Calculate the PDF using the scipy.stats.norm library\n",
    "pdf_values = norm.pdf(x_values, mean_salary, std_deviation)\n",
    "\n",
    "# Plot the PDF as a smooth curve\n",
    "plt.plot(x_values, pdf_values, 'r-', lw=2, label='Normal Distribution PDF')\n",
    "\n",
    "# Add labels and a legend to the plot\n",
    "plt.xlabel('Salary (USD)')\n",
    "plt.ylabel('Probability Density')\n",
    "plt.title('Employee Salary Distribution')\n",
    "plt.legend()\n",
    "\n",
    "# Show the plot\n",
    "plt.show()\n"
   ]
  },
  {
   "cell_type": "markdown",
   "metadata": {},
   "source": [
    "### 6.2 Central Limit Theorem"
   ]
  },
  {
   "cell_type": "markdown",
   "metadata": {},
   "source": [
    "The Central Limit Theorem (CLT) is a fundamental concept in statistics, and it plays a crucial role in explaining why the normal distribution is so pervasive in various fields.[Central Limit Theorem](https://www.youtube.com/watch?v=b5xQmk9veZ4&ab_channel=365DataScience)\n",
    "\n",
    "#### The Central Limit Theorem Explained\n",
    "\n",
    "The Central Limit Theorem states that:\n",
    "\n",
    "> If you take the mean of $( n )$ random samples from any arbitrary distribution with a well-defined standard deviation $( \\sigma )$ and mean $( \\mu )$, as $( n )$ gets larger, the distribution of the sample mean will converge to a Gaussian (normal) distribution with mean $( \\mu $) and standard deviation $( \\frac{\\sigma}{\\sqrt{n}} )$.\n",
    "\n",
    "#### Key Aspects of the CLT\n",
    "\n",
    "- **Applicability to Any Distribution**: The CLT is remarkable because it applies to any distribution, no matter its shape, as long as the distribution has a well-defined mean and standard deviation.\n",
    "- **Sample Size and Normal Distribution**: As the sample size increases, the distribution of the sample means tends toward a normal distribution, regardless of the shape of the original data distribution.\n",
    "- **Mean and Standard Deviation of the Sample Means**: The mean of these sample means will equal the population mean (\\( \\mu \\)), and their standard deviation (also called the standard error) will be \\( \\frac{\\sigma}{\\sqrt{n}} \\).\n",
    "\n",
    "#### Why is the CLT Significant?\n",
    "\n",
    "- **Ubiquity of the Normal Distribution**: The CLT helps to explain why normal distributions are commonly observed in real-world data—even when the underlying data does not follow a normal distribution.\n",
    "- **Foundation for Statistical Methods**: This theorem underlies many statistical methods, such as hypothesis testing and confidence intervals. It allows for inferences about population parameters even when the distribution of the population is unknown.\n",
    "- **Practical Implications**: In practical terms, the CLT means that average measurements from random samples (like the average height from a sample of people) will tend to form a normal distribution, even if individual measurements themselves do not.\n",
    "\n",
    "#### Applications and Implications\n",
    "\n",
    "The CLT has widespread applications across various domains, from natural and social sciences to engineering and economics. It allows researchers and practitioners to use the powerful tools of normal distribution, even in situations where the data does not initially appear to fit this model.\n",
    "\n",
    "In essence, the Central Limit Theorem provides a bridge between the theory of probability and the practice of statistics, justifying the use of the normal distribution as a model in many practical situations.\n",
    "\n",
    "\n",
    "#### Example Central Limit Theorem in Business: Daily Sales Analysis\n",
    "\n",
    "In this exercise, we'll explore the Central Limit Theorem (CLT) using a practical business example. We will simulate a common scenario in retail - daily sales. Understanding the CLT can be crucial in business for making predictions and understanding data trends.\n",
    "\n",
    "#### Scenario: Retail Store Daily Sales\n",
    "\n",
    "In a retail environment, daily sales can vary significantly and might not follow a normal distribution. However, by applying the CLT, we can understand how the average sales over time behave, which is critical for inventory management, staffing, and financial forecasting.\n",
    "\n",
    "#### Objective\n",
    "\n",
    "The aim is to simulate daily sales data, compute sample means over different sample sizes, and observe how these sample means form a distribution. According to the CLT, as the sample size increases, the distribution of the sample means should approximate a normal distribution, regardless of the shape of the original sales data distribution.\n",
    "\n",
    "#### Python Simulation\n",
    "\n",
    "The provided Python code carries out the following steps:\n",
    "1. Generates random daily sales figures assuming a uniform distribution (non-normal).\n",
    "2. Calculates sample means for different sample sizes.\n",
    "3. Plots the distribution of these sample means.\n",
    "4. Fits a normal distribution over the sample means to visualize the CLT.\n",
    "\n",
    "This practical example will demonstrate the power of the CLT in a business context, showcasing its relevance and application in everyday data analysis tasks in the retail industry.\n"
   ]
  },
  {
   "cell_type": "code",
   "execution_count": 126,
   "metadata": {},
   "outputs": [
    {
     "data": {
      "image/png": "[encoded data removed]",
      "text/plain": [
       "<Figure size 1100x500 with 4 Axes>"
      ]
     },
     "metadata": {},
     "output_type": "display_data"
    }
   ],
   "source": [
    "import numpy as np\n",
    "import matplotlib.pyplot as plt\n",
    "\n",
    "# Setting up a demonstration of the Central Limit Theorem (CLT) using daily sales data\n",
    "fig, ax = plt.subplots(1, 4, sharey=True, squeeze=True, figsize=(11, 5))\n",
    "\n",
    "# Assume sales amounts are uniformly distributed between $1000 and $5000\n",
    "lower_bound, upper_bound = 1000, 5000\n",
    "sample_sizes = [1, 2, 5, 10]  # Different sample sizes to demonstrate the CLT\n",
    "\n",
    "for i, n in enumerate(sample_sizes):\n",
    "    # Generating random daily sales data for 'n' days\n",
    "    daily_sales = np.random.uniform(lower_bound, upper_bound, (10000, n))\n",
    "\n",
    "    # Calculating the mean of daily sales for each of the 10,000 samples\n",
    "    sample_means = np.mean(daily_sales, axis=1)\n",
    "\n",
    "    # Plotting the histogram of the sample means\n",
    "    ax[i].hist(sample_means, bins=40, density=True, color=[0, 0.2, .8, .6])\n",
    "    ax[i].set_title(f'n={n}')\n",
    "\n",
    "    # Fitting a normal distribution to the sample means\n",
    "    mean, std = np.mean(sample_means), np.std(sample_means, ddof=1)\n",
    "    x = np.linspace(min(sample_means), max(sample_means), 100)\n",
    "    normal_pdf = (1 / (std * np.sqrt(2 * np.pi))) * np.exp(-(x - mean) ** 2 / (2 * std ** 2))\n",
    "    \n",
    "    # Plotting the fitted normal distribution over the histogram\n",
    "    ax[i].plot(x, normal_pdf, color=[1, 0, 0, .6], linewidth=2)\n",
    "\n",
    "plt.suptitle('Demonstration of the CLT for Daily Sales in a Retail Store', y=1.05)\n",
    "plt.tight_layout()\n",
    "plt.show()\n"
   ]
  },
  {
   "cell_type": "markdown",
   "metadata": {},
   "source": [
    "#### Business Challenge: Analyzing Customer Spending Habits Using the Central Limit Theorem\n",
    "\n",
    "#### Scenario: Retail Company's Customer Spending Analysis\n",
    "\n",
    "You are a data analyst in a retail company, and your task is to analyze customer spending behavior. The company's data on customer purchases shows wide variability, and the distribution of individual purchases does not appear to follow a normal distribution.\n",
    "\n",
    "#### Objective\n",
    "\n",
    "Utilize the Central Limit Theorem to analyze the average spending per customer. The goal is to provide insights that can help the marketing and sales teams in strategic planning and targeted promotions.\n",
    "\n",
    "#### Tasks\n",
    "\n",
    "1. **Data Collection**: Gather data on individual customer purchases over a certain period.\n",
    "2. **Sample Averages**: Create random samples of customer purchases and calculate the average spending for each sample.\n",
    "3. **Apply the CLT**: Observe how the distribution of these sample means behaves as the sample size increases.\n",
    "4. **Statistical Analysis**: Analyze the resulting distribution of the sample means - it should approximate a normal distribution as per the CLT.\n",
    "5. **Insights and Strategy Development**: Based on the analysis, provide insights into customer spending patterns. Discuss how these insights can inform marketing strategies, discount offers, and inventory management.\n",
    "\n",
    "#### Expected Outcome\n",
    "\n",
    "This challenge will demonstrate how the Central Limit Theorem can be applied in a practical business setting to extract meaningful insights from seemingly non-normal data. It will enhance your understanding of statistical methods in business analytics and their application in strategic decision-making.\n"
   ]
  },
  {
   "cell_type": "code",
   "execution_count": null,
   "metadata": {},
   "outputs": [],
   "source": [
    "import numpy as np\n",
    "import matplotlib.pyplot as plt\n",
    "\n",
    "# This function simulates customer spending data\n",
    "def generate_customer_spending(num_customers):\n",
    "    # Simulate a non-normal distribution of spending (e.g., exponential, skewed, etc.)\n",
    "    return np.random.exponential(100, num_customers)  # Change parameters as needed\n",
    "\n",
    "# Function to calculate sample means\n",
    "def calculate_sample_means(data, sample_size, num_samples):\n",
    "    sample_means = []\n",
    "    for _ in range(num_samples):\n",
    "        sample = np.random.choice(data, sample_size)\n",
    "        sample_means.append(np.mean(sample))\n",
    "    return sample_means\n",
    "\n",
    "# Parameters for simulation\n",
    "num_customers = 1000  # Total number of customer data points\n",
    "sample_size = 50      # Size of each sample\n",
    "num_samples = 1000    # Number of samples to take\n",
    "\n",
    "# Generate customer spending data\n",
    "customer_spending = generate_customer_spending(num_customers)\n",
    "\n",
    "# Calculate sample means\n",
    "sample_means = calculate_sample_means(customer_spending, sample_size, num_samples)\n",
    "\n",
    "# Plot the distribution of sample means\n",
    "plt.hist(sample_means, bins=30, edgecolor='black')\n",
    "plt.xlabel('Average Spending ($)')\n",
    "plt.ylabel('Frequency')\n",
    "plt.title('Distribution of Sample Means - Customer Spending')\n",
    "plt.show()"
   ]
  },
  {
   "cell_type": "markdown",
   "metadata": {},
   "source": [
    "**The Central Limit Theorem explains the importance of normal distributions in the real world. Many features and properties of the living beings depend on genetic and environmental factors which effect usually is additive.** The measured features are sum of manny small effects that not necessarily follow the normal distributions, but their sum does follow according to the Central Limit Theorem.\n",
    "\n"
   ]
  },
  {
   "cell_type": "markdown",
   "metadata": {},
   "source": [
    "## 6A. (Extra) Kernel density estimates "
   ]
  },
  {
   "cell_type": "markdown",
   "metadata": {},
   "source": [
    "\n",
    "\n",
    "In some instances, we may not be interested in the parameters of a particular distribution of data, but just a **continous representation** of the data at hand. In this case, we can estimate the distribution non-parametrically (i.e. making no assumptions about the form of the underlying distribution) using kernel density estimation.\n",
    "\n",
    "Several uses are defined:\n",
    "\n",
    "- **Visualization** - to explore the data by visualizing them and decide whether an estimated PDF is an appropriate model for the distribution.\n",
    "\n",
    "- **Interpolation** - if we have reasons to beleive that the distribution is smooth, we can apply the KDE to interpolate the density specially for values that were not sampled.\n",
    "\n",
    "- **Simulation** - specially when the sample distribution is small, it would be convenient to smooth the sample distribution by KDE in order to simulated and explore more possible outcomes, rather than replicating the observed data."
   ]
  },
  {
   "cell_type": "code",
   "execution_count": null,
   "metadata": {},
   "outputs": [],
   "source": [
    "from scipy.stats.distributions import norm\n",
    "\n",
    "# Some random data\n",
    "y = np.random.random(15) * 10\n",
    "x = np.linspace(0, 10, 100)\n",
    "# Smoothing parameter\n",
    "s = 0.4\n",
    "\n",
    "# Calculate the kernels\n",
    "kernels = np.transpose([norm.pdf(x, yi, s) for yi in y])\n",
    "\n",
    "plt.plot(x, kernels, 'k:')\n",
    "plt.plot(x, kernels.sum(1))\n",
    "plt.plot(y, np.zeros(len(y)), 'ro', ms=10)"
   ]
  },
  {
   "cell_type": "markdown",
   "metadata": {},
   "source": [
    "SciPy implements a Gaussian KDE that automatically chooses an appropriate bandwidth. Let's create a bi-modal distribution of data that is not easily summarized by a parametric distribution:"
   ]
  },
  {
   "cell_type": "code",
   "execution_count": null,
   "metadata": {},
   "outputs": [],
   "source": [
    "# Create a bi-modal distribution with a mixture of Normals.\n",
    "x1 = np.random.normal(0, 3, 100) # parameters: (loc=0.0, scale=1.0, size=None)\n",
    "x2 = np.random.normal(8, 1, 50)\n",
    "\n",
    "# Append by row\n",
    "x = np.r_[x1, x2] # r_ Translates slice objects to concatenation along the first axis.\n",
    "\n",
    "\n",
    "plt.hist(x, bins=8, density=True)"
   ]
  },
  {
   "cell_type": "code",
   "execution_count": null,
   "metadata": {},
   "outputs": [],
   "source": [
    "from scipy.stats import kde\n",
    "\n",
    "density = kde.gaussian_kde(x)\n",
    "xgrid = np.linspace(x.min(), x.max(), 100)\n",
    "plt.hist(x, bins=18, density=True)\n",
    "plt.plot(xgrid, density(xgrid), 'r-')"
   ]
  },
  {
   "cell_type": "markdown",
   "metadata": {},
   "source": [
    "## 7 Estimation"
   ]
  },
  {
   "cell_type": "markdown",
   "metadata": {},
   "source": [
    "\n",
    "* 4.1 Sample mean\n",
    "* 4.2 Variance\n",
    "* 4.3 Standard scores\n",
    "* 4.4 Covariance\n",
    "* 4.5 Pearson,s correlation\n",
    "* 4.6 Spearman's rank correlation"
   ]
  },
  {
   "cell_type": "markdown",
   "metadata": {},
   "source": [
    "Let's think of a sequence of values: \n",
    "[-0.441, 1.774, -0.101, -1.138, 2.975, -2.138].\n",
    "\n",
    "Can you guess which is the distribution? For example what would be its mean?\n",
    "\n",
    "Hint: assume that it is normal distribution.\n",
    "\n",
    "\n",
    "**Definition:** *Estimation* is the process of inferring the parameters (e.g. mean) of a distribution from a statistic of samples drown from a population.\n",
    "\n",
    "For example: What is the estimated mean $\\hat{\\mu}$ of the following normal data?"
   ]
  },
  {
   "cell_type": "code",
   "execution_count": 127,
   "metadata": {},
   "outputs": [
    {
     "data": {
      "image/png": "[encoded data removed]",
      "text/plain": [
       "<Figure size 640x480 with 1 Axes>"
      ]
     },
     "metadata": {},
     "output_type": "display_data"
    }
   ],
   "source": [
    "x = np.random.normal(0.0, 1.0, 10000)\n",
    "a = plt.hist(x,50,density='True')"
   ]
  },
  {
   "cell_type": "markdown",
   "metadata": {},
   "source": [
    "We can use our definition of empirical mean:"
   ]
  },
  {
   "cell_type": "code",
   "execution_count": 128,
   "metadata": {},
   "outputs": [
    {
     "name": "stdout",
     "output_type": "stream",
     "text": [
      "The empirical mean of the sample is  0.008795055326621002\n"
     ]
    }
   ],
   "source": [
    "print('The empirical mean of the sample is ', x.mean())"
   ]
  },
  {
   "cell_type": "markdown",
   "metadata": {},
   "source": [
    "Let us imagine that we were reported the following data, where probably one of the data is wrong:"
   ]
  },
  {
   "cell_type": "code",
   "execution_count": 129,
   "metadata": {},
   "outputs": [
    {
     "name": "stdout",
     "output_type": "stream",
     "text": [
      "-35.121833333333335\n"
     ]
    }
   ],
   "source": [
    "x=np.array([-0.441, 1.774, -0.101, -1.138, 2.975, -213.8])\n",
    "print(x.mean())"
   ]
  },
  {
   "cell_type": "markdown",
   "metadata": {},
   "source": [
    "Is the mean estimator good enough?\n",
    "\n",
    "### 4.1 Sample mean\n",
    "\n",
    "+ The process is called **estimation** and the statistic we used **estimator**.\n",
    "\n",
    "+ The median is also an estimator (more robust to outliers). \n",
    "\n",
    "+ \"Is median better than sample mean?\" is a question with at least two different answers. We can use two different objectives to answer this question: the minimization of error or the maximization to get the right answer. \n",
    "\n",
    "+ If there are no outliers, we can use the **sample mean** to minimize **mean squared error** (where $m$ is the number of times you play the estimation game, not the size of the sample!):\n",
    "\n",
    "$$ MSE = \\frac{1}{m} \\sum(\\hat{\\mu} - \\mu)^2$$\n"
   ]
  },
  {
   "cell_type": "code",
   "execution_count": 130,
   "metadata": {},
   "outputs": [
    {
     "name": "stdout",
     "output_type": "stream",
     "text": [
      "MSE:  9.72449795895953e-06\n"
     ]
    }
   ],
   "source": [
    "err = 0.0\n",
    "mu=0.0\n",
    "NTests=1000\n",
    "var=1.0\n",
    "NPoints=100000\n",
    "for i in range(NTests):\n",
    "    x = np.random.normal(mu, var, NPoints)\n",
    "    err += (mu - x.mean())**2\n",
    "\n",
    "print('MSE: ', err/float(NTests) )"
   ]
  },
  {
   "cell_type": "markdown",
   "metadata": {},
   "source": [
    "### 4.2 Variance\n",
    "\n",
    "We can also estimate the variance with:\n",
    "\n",
    "$$ \\hat{\\sigma}^2 = \\frac{1}{n} \\sum_i (x_i - \\mu)^2 $$\n",
    "\n",
    "This estimator works for large samples, but it is biased for small samples. We can use this one:\n",
    "\n",
    "$$ \\hat{\\sigma}^2_{n-1} = \\frac{1}{n-1} \\sum_i (x_i - \\mu)^2 $$\n",
    "\n",
    "\n",
    "### 4.3 Other concepts: Standard scores\n",
    "\n",
    "$$ z_i = \\frac{x_i - \\mu}{\\sigma}$$\n",
    "\n",
    "This measure is dimensionless and its distribution has mean 0 and variance 1.\n",
    "\n",
    "It inherits the \"shape\" of $X$: if it is normally distributed, so is $Z$. If $X$ is skewed, so is $Z$.\n",
    "\n",
    "### 4.4 Covariance (optional)\n",
    "\n",
    "Sometimes it would be of interest to measure the relationship between two variables. \n",
    "\n",
    "**Covariance** is a measure of the tendency of two variables to vary together. \n",
    "\n",
    "If we have two series $X$ and $Y$ with $X=\\{x_i\\}$ and $Y=\\{y_i\\}$, and they vary together, their deviations $x_i - \\mu_X$ and $y_i - \\mu_Y$ tend to have the same sign.\n",
    "\n",
    "If we multiply them together, the product is positive, when the deviations have the same sign, and negative, when they have the opposite sign. So adding up the products gives a measure of the tendency to vary together.\n",
    "\n",
    "Covariance is the mean of the products:\n",
    "\n",
    "$$ Cov(X,Y) = \\frac{1}{n} \\sum (x_i - \\mu_X)*(y_i - \\mu_Y), $$\n",
    "\n",
    "where $n$ is the length of the two series.\n",
    "\n",
    "It is a measure that is difficult to interpret."
   ]
  },
  {
   "cell_type": "code",
   "execution_count": 131,
   "metadata": {},
   "outputs": [
    {
     "name": "stdout",
     "output_type": "stream",
     "text": [
      "Cov(X, X) = 18.89\n",
      "Var(X) = 18.89\n",
      "Cov(X, Y) = 0.18\n"
     ]
    }
   ],
   "source": [
    "def Cov(X, Y):\n",
    "    def _get_dvis(V):\n",
    "        return [v - np.mean(V) for v in V]\n",
    "    dxis = _get_dvis(X)\n",
    "    dyis = _get_dvis(Y)\n",
    "    return np.sum([x * y for x, y in zip(dxis, dyis)])/len(X)\n",
    "\n",
    "X = [5, -1, 3.3, 2.7, 12.2]\n",
    "Y=[10,12,8,9,11]\n",
    "\n",
    "#print(\"Cov(X, X) = %.2f\" % Cov(X, X))\n",
    "#print(\"Var(X) = %.2f\" % np.var(X))\n",
    "\n",
    "print(\"Cov(X, Y) = %.2f\" % Cov(X, Y))\n"
   ]
  },
  {
   "cell_type": "markdown",
   "metadata": {},
   "source": [
    "<center><img src=\"images/gasolineprice.gif\"></center>"
   ]
  },
  {
   "cell_type": "markdown",
   "metadata": {},
   "source": [
    "### 4.5 Pearson's Correlation\n",
    "\n",
    "Shall we take into account the variance? An alternative is to divide the deviations by $\\sigma$, which yields standard scores, and compute the product of standard scores:\n",
    "\n",
    "$$ p_i = \\frac{(x_i - \\mu_X)}{\\sigma_X} \\frac{(y_i - \\mu_Y)}{\\sigma_Y} $$\n",
    " \n",
    "The mean of these products is:\n",
    "\n",
    "$$ \\rho = \\frac{1}{n} \\sum p_i = \\frac{1}{n} \\sum  \\frac{(x_i - \\mu_X)}{\\sigma_X} \\frac{(y_i - \\mu_Y)}{\\sigma_Y}  $$\n",
    "\n",
    "Or we can rewrite $\\rho$ by factoring out $\\sigma_X$ and $\\sigma_Y$:\n",
    "\n",
    "$$ \\rho = \\frac{Cov(X,Y)}{\\sigma_X \\sigma_Y}$$\n",
    "\n",
    " \n"
   ]
  },
  {
   "cell_type": "code",
   "execution_count": 132,
   "metadata": {},
   "outputs": [
    {
     "name": "stdout",
     "output_type": "stream",
     "text": [
      "Corr(X, X) = 1.00000\n",
      "Corr(X, Y) = 0.68320\n"
     ]
    }
   ],
   "source": [
    "def Corr(X, Y):\n",
    "    assert len(X) == len(Y)\n",
    "    return Cov(X, Y) / np.prod([np.std(V) for V in [X, Y]])\n",
    "\n",
    "print(\"Corr(X, X) = %.5f\" % Corr(X, X))\n",
    "\n",
    "Y=np.random.random(len(X))\n",
    "\n",
    "print(\"Corr(X, Y) = %.5f\" % Corr(X, Y))"
   ]
  },
  {
   "cell_type": "markdown",
   "metadata": {},
   "source": [
    "<center><img src=\"images/pearson.png\"></center>"
   ]
  },
  {
   "cell_type": "markdown",
   "metadata": {},
   "source": [
    "When $\\rho = 0$, we cannot say that there is no relationship between the variables!\n",
    "\n",
    "Pearson's coefficient only measures **linear** correlations!\n",
    "\n",
    "### 4.6 Spearman’s rank correlation\n",
    "\n",
    "Pearson’s correlation works well if the relationship between variables is linear and if the variables are roughly normal. But it is not robust in the presence of **outliers**.\n",
    "\n",
    "Spearman’s rank correlation is an alternative that mitigates the effect of outliers and skewed distributions. To compute Spearman’s correlation, we have to compute the rank of each value, which is its index in the sorted sample. \n",
    "\n",
    "For example, in the sample {7, 1, 2, 5} the rank of the value 5 is 3, because it appears third if we sort the elements. \n",
    "\n",
    "Then, we compute the Pearson’s correlation, **but for the ranks**."
   ]
  },
  {
   "cell_type": "code",
   "execution_count": 133,
   "metadata": {},
   "outputs": [
    {
     "name": "stdout",
     "output_type": "stream",
     "text": [
      "ranks:  [4.0, 1.0, 2.0, 3.0]\n",
      "Pearson rank coefficient: 0.27\n",
      "Spearman rank coefficient: 0.80\n"
     ]
    },
    {
     "data": {
      "image/png": "[encoded data removed]",
      "text/plain": [
       "<Figure size 640x480 with 1 Axes>"
      ]
     },
     "metadata": {},
     "output_type": "display_data"
    }
   ],
   "source": [
    "def list2rank(l):\n",
    "    #l is a list of numbers\n",
    "    # returns a list of 1-based index; mean when multiple instances\n",
    "    return [np.mean([i+1 for i, sorted_el in enumerate(sorted(l)) if sorted_el == el]) for el in l]\n",
    "\n",
    "l = [7, 1, 2, 5]\n",
    "print(\"ranks: \", list2rank(l))\n",
    "\n",
    "def spearmanRank(X, Y):\n",
    "    # X and Y are same-length lists\n",
    "    return Corr(list2rank(X), list2rank(Y))\n",
    "\n",
    "X = [1, 2, 3, 4, 100]\n",
    "Y = [5, -100, 7, 10, 9]\n",
    "plt.plot(X,'ro')\n",
    "plt.plot(Y,'go')\n",
    "\n",
    "print(\"Pearson rank coefficient: %.2f\" % Corr(X, Y))\n",
    "print(\"Spearman rank coefficient: %.2f\" % spearmanRank(X, Y))\n"
   ]
  },
  {
   "cell_type": "markdown",
   "metadata": {},
   "source": [
    "**Exercise:** Obtain for the Anscombe's quartet, the different estimators (mean, variance, covariance for each pair, Pearson's correlation and Spearman's rank correlation.\n",
    "\n",
    "(Source: http://en.wikipedia.org/wiki/Anscombe's_quartet):\n",
    "\n",
    "<center><img src=\"images/Anscombe's_quartet.png\"></center>"
   ]
  },
  {
   "cell_type": "code",
   "execution_count": null,
   "metadata": {},
   "outputs": [],
   "source": [
    "#Your solution here.\n"
   ]
  },
  {
   "cell_type": "markdown",
   "metadata": {},
   "source": [
    "**Exercice:** Show if there is a correlation between the data of the babies...."
   ]
  },
  {
   "cell_type": "code",
   "execution_count": null,
   "metadata": {},
   "outputs": [],
   "source": [
    "#Your solution here."
   ]
  },
  {
   "cell_type": "markdown",
   "metadata": {},
   "source": [
    "### Main reference\n",
    "\n",
    "*Think Stats: Probability and Statistics for Programmers*, by Allen B. Downey, published by O'Reilly Media.\n",
    "\n",
    "http://www.greenteapress.com/thinkstats/\n",
    "\n"
   ]
  },
  {
   "cell_type": "markdown",
   "metadata": {},
   "source": [
    "## Solutions"
   ]
  },
  {
   "cell_type": "markdown",
   "metadata": {},
   "source": [
    "**Exercises and Answers:**\n",
    "\n",
    "1. **Example where for all data samples, $x_i \\leq \\mu$:**\n",
    "    - **Scenario:** All data points are less than or equal to the mean of the distribution.\n",
    "    - **Real-World Example:** Age of Retirement. In a profession or company with a strictly regulated retirement age of 65 years, people might retire earlier for various reasons, but no one retires later than 65. Thus, all data points (retirement ages) will be less than or equal to the mean retirement age.\n",
    "\n",
    "2. **Example where for all data samples, $x_i \\leq \\mu_{\\frac{1}{2}}$:**\n",
    "    - **Scenario:** A distribution where all data points are less than or equal to the median.\n",
    "    - **Real-World Example:** Wealth Distribution. In a society with significant income disparity, most individuals have wealth at or below the median, due to a few extremely wealthy individuals skewing the mean much higher than the median.\n",
    "\n",
    "3. **Distribution from asking people about their driving skills relative to the average driver:**\n",
    "    - **Expected Outcome:** A majority of people are likely to rate themselves as above-average drivers due to a cognitive bias known as \"illusory superiority.\" This would result in a distribution skewed to the right, with more people claiming to be better than average."
   ]
  },
  {
   "cell_type": "code",
   "execution_count": null,
   "metadata": {},
   "outputs": [],
   "source": [
    "# Exercise 1: Disease Testing Solution\n",
    "# Probability that a person has the disease given they tested positive\n",
    "population_disease_rate = 0.01  # 1% of the population has the disease\n",
    "test_accuracy = 0.99  # Test is 99% accurate\n",
    "prob_positive_given_disease = test_accuracy\n",
    "prob_positive = (population_disease_rate * test_accuracy) + ((1 - population_disease_rate) * (1 - test_accuracy))\n",
    "prob_disease_given_positive = prob_positive_given_disease * population_disease_rate / prob_positive\n",
    "\n",
    "# Exercise 2: Coin Toss Solution\n",
    "# Probability of picking the biased coin given you got heads\n",
    "prob_fair_coin = 0.5\n",
    "prob_biased_coin = 0.5\n",
    "prob_heads_fair = 0.5\n",
    "prob_heads_biased = 0.75\n",
    "prob_heads_total = (prob_fair_coin * prob_heads_fair) + (prob_biased_coin * prob_heads_biased)\n",
    "prob_biased_given_heads = (prob_biased_coin * prob_heads_biased) / prob_heads_total\n",
    "\n",
    "# Exercise 3: Card Draw from a Deck Solution\n",
    "# Probability that the card is a heart given it's a red card\n",
    "prob_heart = 13 / 52  # Hearts in a deck\n",
    "prob_red = 26 / 52   # Red cards in a deck\n",
    "prob_heart_given_red = prob_heart / prob_red\n",
    "\n",
    "# Exercise 4: Rain and Traffic Solution\n",
    "# Probability that it will rain today given that there is traffic congestion\n",
    "prob_rain = 0.4\n",
    "prob_traffic_given_rain = 0.7\n",
    "prob_traffic_given_no_rain = 0.3\n",
    "prob_traffic = (prob_rain * prob_traffic_given_rain) + ((1 - prob_rain) * prob_traffic_given_no_rain)\n",
    "prob_rain_given_traffic = (prob_rain * prob_traffic_given_rain) / prob_traffic\n",
    "\n",
    "# Exercise 5: First Child Birth Solution\n",
    "# Probability that a randomly selected cesarean section birth is a first-time birth\n",
    "prob_first_time_birth = 0.6\n",
    "prob_cesarean_first_time = 0.3\n",
    "prob_cesarean_not_first_time = 0.2\n",
    "prob_cesarean_total = (prob_first_time_birth * prob_cesarean_first_time) + ((1 - prob_first_time_birth) * prob_cesarean_not_first_time)\n",
    "prob_first_time_given_cesarean = (prob_first_time_birth * prob_cesarean_first_time) / prob_cesarean_total"
   ]
  },
  {
   "cell_type": "markdown",
   "metadata": {},
   "source": [
    "**Solutions to Exercises on Conditional Probability:**\n",
    "\n",
    "1. **Three Children Scenario**:\n",
    "   - Probability all are girls = $( \\frac{1}{2} \\times \\frac{1}{2} \\times \\frac{1}{2} = \\frac{1}{8} )$ or 12.5%.\n",
    "\n",
    "2. **At Least One Girl in Three Children**:\n",
    "   - With at least one girl, the sample space reduces to GGG, GGB, GBG, BGG (where G = girl, B = boy). \n",
    "   - Probability all three are girls = ( \\frac{1}{4} )$ or 25%.\n",
    "\n",
    "3. **Specific Birth Order**:\n",
    "   - Knowing the first child is a girl, we only consider GGG, GGB, and GBG.\n",
    "   - Probability the other two are also girls = $( \\frac{1}{3} )$ or about 33.3%.\n",
    "\n",
    "4. **At Least One Boy in Four Children**:\n",
    "   - With at least one boy, we exclude all-girl combinations.\n",
    "   - Probability exactly two are boys involves counting all combinations with two boys and two girls, which is $( \\binom{4}{2} = 6 )$ (BBGG, BGBG, BGGB, GBBG, GBGB, GGBB).\n",
    "   - Total combinations (excluding all girls) = 15.\n",
    "   - Probability = $( \\frac{6}{15} = \\frac{2}{5} )$ or 40%.\n",
    "\n",
    "5. **Twins and a Third Child**:\n",
    "   - Knowing one of the twins is a girl, the twin combinations are GG, GB, BG.\n",
    "   - Each of these combined with the third child's gender gives GG(G/B), GB(G/B), BG(G/B).\n",
    "   - Probability the third child is a girl = $( \\frac{3}{6} = \\frac{1}{2} )$ or 50%.\n",
    "\n",
    "6. **Birthdays and Gender**:\n",
    "   - This is a more complex problem, as it involves considering the additional variable of the day of the week.\n",
    "   - Assuming uniform distribution of birthdays across days of the week, and that the fact a girl is born on a Tuesday is independent of the gender of other children.\n",
    "   - Probability calculations in this scenario involve detailed combinatorial considerations and are beyond the scope of a simple solution here.\n",
    "\n",
    "These solutions apply basic principles of conditional probability, considering the given information and how it affects the probability of various outcomes.\n"
   ]
  },
  {
   "cell_type": "code",
   "execution_count": null,
   "metadata": {},
   "outputs": [],
   "source": [
    "import seaborn as sns\n",
    "from scipy.stats import binom\n",
    "\n",
    "# Load the dataset\n",
    "tips = sns.load_dataset('tips')\n",
    "\n",
    "# Explore the dataset for trends related to customer satisfaction\n",
    "# tips.head()\n",
    "# Analyze tipping behavior by day, time, etc.\n",
    "\n",
    "# Binomial distribution parameters\n",
    "n = 30  # Number of surveyed customers per day\n",
    "p_weekday = 0.60  # Probability of positive feedback on weekdays\n",
    "p_weekend = 0.70  # Probability of positive feedback on weekends\n",
    "\n",
    "# Calculate probabilities for different scenarios\n",
    "# Probability of exactly 20 positive feedbacks on a weekday\n",
    "prob_20_weekday = binom.pmf(20, n, p_weekday)\n",
    "\n",
    "# Probability of more than 25 positive feedbacks on a weekend\n",
    "prob_more_25_weekend = 1 - binom.cdf(25, n, p_weekend)\n",
    "\n",
    "# Probability of receiving 15 to 24 positive feedbacks on a weekday\n",
    "prob_15_to_24_weekday = binom.cdf(24, n, p_weekday) - binom.cdf(14, n, p_weekday)\n",
    "\n",
    "# Output the results\n",
    "print(f\"Probability of exactly 20 positive feedbacks on a weekday: {prob_20_weekday:.4f}\")\n",
    "print(f\"Probability of more than 25 positive feedbacks on a weekend: {prob_more_25_weekend:.4f}\")\n",
    "print(f\"Probability of 15 to 24 positive feedbacks on a weekday: {prob_15_to_24_weekday:.4f}\")"
   ]
  },
  {
   "cell_type": "code",
   "execution_count": null,
   "metadata": {},
   "outputs": [],
   "source": [
    "import numpy as np\n",
    "from scipy.stats import binom\n",
    "\n",
    "# Define the parameters for the simulation\n",
    "days = 7\n",
    "ads_per_day = 1000\n",
    "ctr = 0.02  # Click-through rate\n",
    "num_simulations = 10000\n",
    "\n",
    "# Conducting the Monte Carlo Simulation\n",
    "total_clicks_simulation = []\n",
    "for _ in range(num_simulations):\n",
    "    weekly_clicks = 0\n",
    "    for _ in range(days):\n",
    "        # Simulate the number of clicks per day\n",
    "        daily_clicks = binom.rvs(n=ads_per_day, p=ctr)\n",
    "        weekly_clicks += daily_clicks\n",
    "    total_clicks_simulation.append(weekly_clicks)\n",
    "\n",
    "# Analyzing the simulation results\n",
    "mean_clicks = np.mean(total_clicks_simulation)\n",
    "median_clicks = np.median(total_clicks_simulation)\n",
    "std_clicks = np.std(total_clicks_simulation)\n",
    "prob_over_150 = sum(click > 150 for click in total_clicks_simulation) / num_simulations\n",
    "\n",
    "# Output the results\n",
    "print(f\"Mean total clicks over a week: {mean_clicks:.2f}\")\n",
    "print(f\"Median total clicks over a week: {median_clicks:.2f}\")\n",
    "print(f\"Standard deviation of total clicks: {std_clicks:.2f}\")\n",
    "print(f\"Probability of more than 150 clicks in a week: {prob_over_150:.4f}\")"
   ]
  },
  {
   "cell_type": "code",
   "execution_count": null,
   "metadata": {},
   "outputs": [],
   "source": [
    "import numpy as np\n",
    "import matplotlib.pyplot as plt\n",
    "import seaborn as sns\n",
    "\n",
    "# Generating customer spending data with a skewed distribution\n",
    "def generate_customer_spending(num_customers):\n",
    "    # Assume an exponential distribution for spending\n",
    "    return np.random.exponential(100, num_customers)\n",
    "\n",
    "# Function to calculate sample means for CLT demonstration\n",
    "def calculate_sample_means(data, sample_size, num_samples):\n",
    "    sample_means = []\n",
    "    for _ in range(num_samples):\n",
    "        sample = np.random.choice(data, sample_size, replace=True)\n",
    "        sample_means.append(np.mean(sample))\n",
    "    return sample_means\n",
    "\n",
    "# Parameters for the analysis\n",
    "num_customers = 10000  # Total number of customers\n",
    "sample_size = 40       # Number of samples in each mean calculation\n",
    "num_samples = 1000     # Number of times the experiment is repeated\n",
    "\n",
    "# Generating customer spending data\n",
    "customer_spending = generate_customer_spending(num_customers)\n",
    "\n",
    "# Calculating sample means based on the generated data\n",
    "sample_means = calculate_sample_means(customer_spending, sample_size, num_samples)\n",
    "\n",
    "# Visualizing the distribution of sample means\n",
    "plt.figure(figsize=(10, 6))\n",
    "sns.histplot(sample_means, kde=True, color='blue', bins=30)\n",
    "plt.title('Distribution of Sample Means of Customer Spending')\n",
    "plt.xlabel('Average Spending ($)')\n",
    "plt.ylabel('Frequency')\n",
    "plt.axvline(x=np.mean(sample_means), color='red', linestyle='--', label=f'Mean: {np.mean(sample_means):.2f}')\n",
    "plt.legend()\n",
    "plt.show()\n",
    "\n",
    "# Interpreting the results\n",
    "print(f\"Mean of Sample Means: {np.mean(sample_means):.2f}\")\n",
    "print(f\"Standard Deviation of Sample Means: {np.std(sample_means, ddof=1):.2f}\")\n",
    "\n",
    "# Additional Insights:\n",
    "# - The distribution of sample means approximates a normal distribution, as predicted by the CLT.\n",
    "# - This normal distribution has a mean close to the mean of the original skewed distribution of customer spending.\n",
    "# - The spread (standard deviation) of this distribution provides insights into the variability of average customer spending."
   ]
  },
  {
   "cell_type": "code",
   "execution_count": 135,
   "metadata": {
    "scrolled": true
   },
   "outputs": [
    {
     "name": "stdout",
     "output_type": "stream",
     "text": [
      "Cristiano got scores at least 1 goal in a row of 10 matches during a season 1086 times out of 10000 ; Prob =  0.1086\n"
     ]
    }
   ],
   "source": [
    "#**Solution of the Messi's exercise:**\n",
    "import random\n",
    "\n",
    "N = 10000 # perform N experiments\n",
    "M = 0 # no of times we get one 6\n",
    "T = 42\n",
    "Messi_score=0.83\n",
    "Cristiano_score=0.62\n",
    "success='1111111111'\n",
    "\n",
    "for i in range(N):\n",
    "    outcome=''\n",
    "    for i in range(T):\n",
    "        res=random.random()\n",
    "        if res<Cristiano_score:\n",
    "            outcome=outcome+'1'\n",
    "        else: outcome=outcome+'0'\n",
    "\n",
    "    if (success in outcome):\n",
    "            M += 1\n",
    "\n",
    "print('Cristiano got scores at least 1 goal in a row of 10 matches during a season %d times out of %d' % (M, N), \n",
    "      '; Prob = ', float(M)/N)"
   ]
  }
 ],
 "metadata": {
  "kernelspec": {
   "display_name": "Python 3 (ipykernel)",
   "language": "python",
   "name": "python3"
  },
  "language_info": {
   "codemirror_mode": {
    "name": "ipython",
    "version": 3
   },
   "file_extension": ".py",
   "mimetype": "text/x-python",
   "name": "python",
   "nbconvert_exporter": "python",
   "pygments_lexer": "ipython3",
   "version": "3.11.9"
  }
 },
 "nbformat": 4,
 "nbformat_minor": 1
}
